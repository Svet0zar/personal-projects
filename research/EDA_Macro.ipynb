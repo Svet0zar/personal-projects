{
 "cells": [
  {
   "cell_type": "code",
   "execution_count": 1,
   "id": "514edf0b",
   "metadata": {},
   "outputs": [],
   "source": [
    "import pandas as pd\n",
    "import numpy as np\n",
    "import warnings\n",
    "warnings.filterwarnings(\"ignore\")   \n",
    "df = pd.read_excel(\"data/xlsx_data/DatasetTrainingMatif20250812.xlsx\", parse_dates=[\"Period\"]).rename(columns={\"Period\": \"Date\"}).set_index(\"Date\").sort_index()\n",
    "df = df[~df.index.duplicated(keep='last')] # Remove duplicate dates"
   ]
  },
  {
   "cell_type": "markdown",
   "id": "7635719d",
   "metadata": {},
   "source": [
    "Quick checks"
   ]
  },
  {
   "cell_type": "code",
   "execution_count": 2,
   "id": "cf6428d2",
   "metadata": {},
   "outputs": [
    {
     "name": "stdout",
     "output_type": "stream",
     "text": [
      "<class 'pandas.core.frame.DataFrame'>\n",
      "DatetimeIndex: 6912 entries, 1998-08-12 to 2025-08-12\n",
      "Data columns (total 22 columns):\n",
      " #   Column                                          Non-Null Count  Dtype  \n",
      "---  ------                                          --------------  -----  \n",
      " 0   Month                                           6912 non-null   int64  \n",
      " 1   Supply_to_Demand_World_Less_China_CoarseGrains  6912 non-null   float64\n",
      " 2   Consumption_per_Capita_US_Wheat_+_CoarseGrains  6912 non-null   float64\n",
      " 3   Consumption_per_Capita_MEwUS_CornFeed           6912 non-null   float64\n",
      " 4   Consumption_To_Production_ME_CoarseGrains       6912 non-null   float64\n",
      " 5   Consumption_To_Production_MEwoEU_CoarseGrains   6912 non-null   float64\n",
      " 6   Supply_per_Capita_MEwoEU_Corn                   6912 non-null   float64\n",
      " 7   Supply_to_Demand_MIwoChina_CoarseGrains         6912 non-null   float64\n",
      " 8   Stock_to_Use_MIwoChina_CoarseGrains             6912 non-null   float64\n",
      " 9   Stock_per_Capita_MIwoChina_CoarseGrains         6912 non-null   float64\n",
      " 10  Supply_to_Demand_EU_WheatPlusCoarseGrains       6912 non-null   float64\n",
      " 11  Consumption_per_Capita_EU_CoarseGrains          6912 non-null   float64\n",
      " 12  Consumption_per_Capita_EU_WheatFeed             6912 non-null   float64\n",
      " 13  Consumption_per_Capita_China_WheatFeed          6912 non-null   float64\n",
      " 14  Oil_Average_Prices                              6912 non-null   float64\n",
      " 15  GDP_deflator                                    6912 non-null   float64\n",
      " 16  Long_term_interest_rates                        6912 non-null   float64\n",
      " 17  Short_term_interest_rates                       6912 non-null   float64\n",
      " 18  US_Dollar_Index                                 6912 non-null   float64\n",
      " 19  Bonds_Price_Spread_10Y_3M                       6912 non-null   float64\n",
      " 20  Bonds_Price_Spread_10Y_2Y                       6912 non-null   float64\n",
      " 21  Matif_Prices                                    6912 non-null   float64\n",
      "dtypes: float64(21), int64(1)\n",
      "memory usage: 1.2 MB\n",
      "None\n"
     ]
    },
    {
     "data": {
      "application/vnd.microsoft.datawrangler.viewer.v0+json": {
       "columns": [
        {
         "name": "index",
         "rawType": "object",
         "type": "string"
        },
        {
         "name": "count",
         "rawType": "float64",
         "type": "float"
        },
        {
         "name": "mean",
         "rawType": "float64",
         "type": "float"
        },
        {
         "name": "std",
         "rawType": "float64",
         "type": "float"
        },
        {
         "name": "min",
         "rawType": "float64",
         "type": "float"
        },
        {
         "name": "25%",
         "rawType": "float64",
         "type": "float"
        },
        {
         "name": "50%",
         "rawType": "float64",
         "type": "float"
        },
        {
         "name": "75%",
         "rawType": "float64",
         "type": "float"
        },
        {
         "name": "max",
         "rawType": "float64",
         "type": "float"
        }
       ],
       "ref": "cef36eb8-4843-4e99-a94a-1ec5adeb3271",
       "rows": [
        [
         "Month",
         "6912.0",
         "6.5298032407407405",
         "3.434734955621449",
         "1.0",
         "4.0",
         "7.0",
         "10.0",
         "12.0"
        ],
        [
         "Supply_to_Demand_World_Less_China_CoarseGrains",
         "6912.0",
         "1.1036967400781217",
         "0.017546239749110553",
         "1.0693158599309518",
         "1.089271584826623",
         "1.1038908659549231",
         "1.117832424256314",
         "1.1474155544928921"
        ],
        [
         "Consumption_per_Capita_US_Wheat_+_CoarseGrains",
         "6912.0",
         "493.21786144346373",
         "58.50105588771685",
         "365.6244798584993",
         "452.3106905264686",
         "471.4364112820688",
         "547.2349855284716",
         "626.4941907617055"
        ],
        [
         "Consumption_per_Capita_MEwUS_CornFeed",
         "6912.0",
         "349.2379510939198",
         "55.006678273145894",
         "262.20555215436246",
         "296.7109526329394",
         "329.98752694007317",
         "408.6071323469217",
         "439.74287246113585"
        ],
        [
         "Consumption_To_Production_ME_CoarseGrains",
         "6912.0",
         "0.6734473612825285",
         "0.07428138550014289",
         "0.5505453458837593",
         "0.6133064516129032",
         "0.6772965879265092",
         "0.7324541653264716",
         "0.8785433070866143"
        ],
        [
         "Consumption_To_Production_MEwoEU_CoarseGrains",
         "6912.0",
         "0.6734473612825285",
         "0.07428138550014289",
         "0.5505453458837593",
         "0.6133064516129032",
         "0.6772965879265092",
         "0.7324541653264716",
         "0.8785433070866143"
        ],
        [
         "Supply_per_Capita_MEwoEU_Corn",
         "6912.0",
         "417.0516804931701",
         "79.61251800717373",
         "258.086031822387",
         "334.79302149747735",
         "439.23205492901224",
         "481.9583735476272",
         "545.0348760071367"
        ],
        [
         "Supply_to_Demand_MIwoChina_CoarseGrains",
         "6912.0",
         "1.1099912065711248",
         "0.01948109974719559",
         "1.0780002583645523",
         "1.0917521631711442",
         "1.1094599627560522",
         "1.123110218932313",
         "1.1567752605869457"
        ],
        [
         "Stock_to_Use_MIwoChina_CoarseGrains",
         "6912.0",
         "0.11445093121022666",
         "0.022156222204469098",
         "0.08032887209642658",
         "0.0942139475162507",
         "0.11239200863930887",
         "0.12990185929023976",
         "0.17464535207645823"
        ],
        [
         "Stock_per_Capita_MIwoChina_CoarseGrains",
         "6912.0",
         "21.279841961670257",
         "4.1652930406606155",
         "15.786750519400213",
         "18.035351939826217",
         "20.349529074966576",
         "23.49817185771899",
         "33.68886478581282"
        ],
        [
         "Supply_to_Demand_EU_WheatPlusCoarseGrains",
         "6912.0",
         "1.102872874332501",
         "0.03014753299520874",
         "1.065931843462433",
         "1.0797992926880877",
         "1.0891302267725576",
         "1.1233261818450841",
         "1.193718363621276"
        ],
        [
         "Consumption_per_Capita_EU_CoarseGrains",
         "6912.0",
         "302.66877580574766",
         "26.899393916707467",
         "249.62748083975174",
         "289.37642012449953",
         "303.31780964726335",
         "320.8257066264572",
         "353.202354854134"
        ],
        [
         "Consumption_per_Capita_EU_WheatFeed",
         "6912.0",
         "113.39330538996052",
         "11.456645246579184",
         "91.6185189061334",
         "103.97201522113276",
         "111.65342447176664",
         "124.26359154975104",
         "138.7460552822378"
        ],
        [
         "Consumption_per_Capita_China_WheatFeed",
         "6912.0",
         "10.641135136583687",
         "7.734487419837972",
         "0.0",
         "3.179373778065603",
         "9.362527533398957",
         "16.26057232478317",
         "28.468652587298923"
        ],
        [
         "Oil_Average_Prices",
         "6912.0",
         "61.37742693865741",
         "26.330094254923846",
         "10.72",
         "40.2375",
         "61.335",
         "80.2525",
         "145.29"
        ],
        [
         "GDP_deflator",
         "6912.0",
         "119.94221793068546",
         "17.270566825353075",
         "100.0",
         "106.12009638190096",
         "114.91841271396332",
         "129.43173138523412",
         "163.7681233336538"
        ],
        [
         "Long_term_interest_rates",
         "6912.0",
         "2.3996371658535876",
         "1.8009043612763143",
         "-0.6490909",
         "0.553217125",
         "2.519546",
         "4.012105",
         "5.539524"
        ],
        [
         "Short_term_interest_rates",
         "6912.0",
         "1.695865218767361",
         "1.7711950385396036",
         "-0.5819565",
         "-0.05359091",
         "1.552087",
         "3.344889",
         "5.113087"
        ],
        [
         "US_Dollar_Index",
         "6912.0",
         "93.09719053819444",
         "11.098251116604319",
         "71.304",
         "83.01",
         "93.812",
         "100.5825",
         "121.21"
        ],
        [
         "Bonds_Price_Spread_10Y_3M",
         "6912.0",
         "1.3714270833333333",
         "1.3033649100445162",
         "-1.8940000000000001",
         "0.3265",
         "1.4689999999999999",
         "2.3970000000000002",
         "3.875"
        ],
        [
         "Bonds_Price_Spread_10Y_2Y",
         "6912.0",
         "1.0222888454861112",
         "0.9731554312039382",
         "-1.0820000000000003",
         "0.19274999999999975",
         "0.9824999999999999",
         "1.8570000000000002",
         "2.91"
        ],
        [
         "Matif_Prices",
         "6912.0",
         "177.8883232060185",
         "58.09466243688748",
         "99.0",
         "125.0",
         "172.5",
         "210.5",
         "438.25"
        ]
       ],
       "shape": {
        "columns": 8,
        "rows": 22
       }
      },
      "text/html": [
       "<div>\n",
       "<style scoped>\n",
       "    .dataframe tbody tr th:only-of-type {\n",
       "        vertical-align: middle;\n",
       "    }\n",
       "\n",
       "    .dataframe tbody tr th {\n",
       "        vertical-align: top;\n",
       "    }\n",
       "\n",
       "    .dataframe thead th {\n",
       "        text-align: right;\n",
       "    }\n",
       "</style>\n",
       "<table border=\"1\" class=\"dataframe\">\n",
       "  <thead>\n",
       "    <tr style=\"text-align: right;\">\n",
       "      <th></th>\n",
       "      <th>count</th>\n",
       "      <th>mean</th>\n",
       "      <th>std</th>\n",
       "      <th>min</th>\n",
       "      <th>25%</th>\n",
       "      <th>50%</th>\n",
       "      <th>75%</th>\n",
       "      <th>max</th>\n",
       "    </tr>\n",
       "  </thead>\n",
       "  <tbody>\n",
       "    <tr>\n",
       "      <th>Month</th>\n",
       "      <td>6912.0</td>\n",
       "      <td>6.529803</td>\n",
       "      <td>3.434735</td>\n",
       "      <td>1.000000</td>\n",
       "      <td>4.000000</td>\n",
       "      <td>7.000000</td>\n",
       "      <td>10.000000</td>\n",
       "      <td>12.000000</td>\n",
       "    </tr>\n",
       "    <tr>\n",
       "      <th>Supply_to_Demand_World_Less_China_CoarseGrains</th>\n",
       "      <td>6912.0</td>\n",
       "      <td>1.103697</td>\n",
       "      <td>0.017546</td>\n",
       "      <td>1.069316</td>\n",
       "      <td>1.089272</td>\n",
       "      <td>1.103891</td>\n",
       "      <td>1.117832</td>\n",
       "      <td>1.147416</td>\n",
       "    </tr>\n",
       "    <tr>\n",
       "      <th>Consumption_per_Capita_US_Wheat_+_CoarseGrains</th>\n",
       "      <td>6912.0</td>\n",
       "      <td>493.217861</td>\n",
       "      <td>58.501056</td>\n",
       "      <td>365.624480</td>\n",
       "      <td>452.310691</td>\n",
       "      <td>471.436411</td>\n",
       "      <td>547.234986</td>\n",
       "      <td>626.494191</td>\n",
       "    </tr>\n",
       "    <tr>\n",
       "      <th>Consumption_per_Capita_MEwUS_CornFeed</th>\n",
       "      <td>6912.0</td>\n",
       "      <td>349.237951</td>\n",
       "      <td>55.006678</td>\n",
       "      <td>262.205552</td>\n",
       "      <td>296.710953</td>\n",
       "      <td>329.987527</td>\n",
       "      <td>408.607132</td>\n",
       "      <td>439.742872</td>\n",
       "    </tr>\n",
       "    <tr>\n",
       "      <th>Consumption_To_Production_ME_CoarseGrains</th>\n",
       "      <td>6912.0</td>\n",
       "      <td>0.673447</td>\n",
       "      <td>0.074281</td>\n",
       "      <td>0.550545</td>\n",
       "      <td>0.613306</td>\n",
       "      <td>0.677297</td>\n",
       "      <td>0.732454</td>\n",
       "      <td>0.878543</td>\n",
       "    </tr>\n",
       "    <tr>\n",
       "      <th>Consumption_To_Production_MEwoEU_CoarseGrains</th>\n",
       "      <td>6912.0</td>\n",
       "      <td>0.673447</td>\n",
       "      <td>0.074281</td>\n",
       "      <td>0.550545</td>\n",
       "      <td>0.613306</td>\n",
       "      <td>0.677297</td>\n",
       "      <td>0.732454</td>\n",
       "      <td>0.878543</td>\n",
       "    </tr>\n",
       "    <tr>\n",
       "      <th>Supply_per_Capita_MEwoEU_Corn</th>\n",
       "      <td>6912.0</td>\n",
       "      <td>417.051680</td>\n",
       "      <td>79.612518</td>\n",
       "      <td>258.086032</td>\n",
       "      <td>334.793021</td>\n",
       "      <td>439.232055</td>\n",
       "      <td>481.958374</td>\n",
       "      <td>545.034876</td>\n",
       "    </tr>\n",
       "    <tr>\n",
       "      <th>Supply_to_Demand_MIwoChina_CoarseGrains</th>\n",
       "      <td>6912.0</td>\n",
       "      <td>1.109991</td>\n",
       "      <td>0.019481</td>\n",
       "      <td>1.078000</td>\n",
       "      <td>1.091752</td>\n",
       "      <td>1.109460</td>\n",
       "      <td>1.123110</td>\n",
       "      <td>1.156775</td>\n",
       "    </tr>\n",
       "    <tr>\n",
       "      <th>Stock_to_Use_MIwoChina_CoarseGrains</th>\n",
       "      <td>6912.0</td>\n",
       "      <td>0.114451</td>\n",
       "      <td>0.022156</td>\n",
       "      <td>0.080329</td>\n",
       "      <td>0.094214</td>\n",
       "      <td>0.112392</td>\n",
       "      <td>0.129902</td>\n",
       "      <td>0.174645</td>\n",
       "    </tr>\n",
       "    <tr>\n",
       "      <th>Stock_per_Capita_MIwoChina_CoarseGrains</th>\n",
       "      <td>6912.0</td>\n",
       "      <td>21.279842</td>\n",
       "      <td>4.165293</td>\n",
       "      <td>15.786751</td>\n",
       "      <td>18.035352</td>\n",
       "      <td>20.349529</td>\n",
       "      <td>23.498172</td>\n",
       "      <td>33.688865</td>\n",
       "    </tr>\n",
       "    <tr>\n",
       "      <th>Supply_to_Demand_EU_WheatPlusCoarseGrains</th>\n",
       "      <td>6912.0</td>\n",
       "      <td>1.102873</td>\n",
       "      <td>0.030148</td>\n",
       "      <td>1.065932</td>\n",
       "      <td>1.079799</td>\n",
       "      <td>1.089130</td>\n",
       "      <td>1.123326</td>\n",
       "      <td>1.193718</td>\n",
       "    </tr>\n",
       "    <tr>\n",
       "      <th>Consumption_per_Capita_EU_CoarseGrains</th>\n",
       "      <td>6912.0</td>\n",
       "      <td>302.668776</td>\n",
       "      <td>26.899394</td>\n",
       "      <td>249.627481</td>\n",
       "      <td>289.376420</td>\n",
       "      <td>303.317810</td>\n",
       "      <td>320.825707</td>\n",
       "      <td>353.202355</td>\n",
       "    </tr>\n",
       "    <tr>\n",
       "      <th>Consumption_per_Capita_EU_WheatFeed</th>\n",
       "      <td>6912.0</td>\n",
       "      <td>113.393305</td>\n",
       "      <td>11.456645</td>\n",
       "      <td>91.618519</td>\n",
       "      <td>103.972015</td>\n",
       "      <td>111.653424</td>\n",
       "      <td>124.263592</td>\n",
       "      <td>138.746055</td>\n",
       "    </tr>\n",
       "    <tr>\n",
       "      <th>Consumption_per_Capita_China_WheatFeed</th>\n",
       "      <td>6912.0</td>\n",
       "      <td>10.641135</td>\n",
       "      <td>7.734487</td>\n",
       "      <td>0.000000</td>\n",
       "      <td>3.179374</td>\n",
       "      <td>9.362528</td>\n",
       "      <td>16.260572</td>\n",
       "      <td>28.468653</td>\n",
       "    </tr>\n",
       "    <tr>\n",
       "      <th>Oil_Average_Prices</th>\n",
       "      <td>6912.0</td>\n",
       "      <td>61.377427</td>\n",
       "      <td>26.330094</td>\n",
       "      <td>10.720000</td>\n",
       "      <td>40.237500</td>\n",
       "      <td>61.335000</td>\n",
       "      <td>80.252500</td>\n",
       "      <td>145.290000</td>\n",
       "    </tr>\n",
       "    <tr>\n",
       "      <th>GDP_deflator</th>\n",
       "      <td>6912.0</td>\n",
       "      <td>119.942218</td>\n",
       "      <td>17.270567</td>\n",
       "      <td>100.000000</td>\n",
       "      <td>106.120096</td>\n",
       "      <td>114.918413</td>\n",
       "      <td>129.431731</td>\n",
       "      <td>163.768123</td>\n",
       "    </tr>\n",
       "    <tr>\n",
       "      <th>Long_term_interest_rates</th>\n",
       "      <td>6912.0</td>\n",
       "      <td>2.399637</td>\n",
       "      <td>1.800904</td>\n",
       "      <td>-0.649091</td>\n",
       "      <td>0.553217</td>\n",
       "      <td>2.519546</td>\n",
       "      <td>4.012105</td>\n",
       "      <td>5.539524</td>\n",
       "    </tr>\n",
       "    <tr>\n",
       "      <th>Short_term_interest_rates</th>\n",
       "      <td>6912.0</td>\n",
       "      <td>1.695865</td>\n",
       "      <td>1.771195</td>\n",
       "      <td>-0.581956</td>\n",
       "      <td>-0.053591</td>\n",
       "      <td>1.552087</td>\n",
       "      <td>3.344889</td>\n",
       "      <td>5.113087</td>\n",
       "    </tr>\n",
       "    <tr>\n",
       "      <th>US_Dollar_Index</th>\n",
       "      <td>6912.0</td>\n",
       "      <td>93.097191</td>\n",
       "      <td>11.098251</td>\n",
       "      <td>71.304000</td>\n",
       "      <td>83.010000</td>\n",
       "      <td>93.812000</td>\n",
       "      <td>100.582500</td>\n",
       "      <td>121.210000</td>\n",
       "    </tr>\n",
       "    <tr>\n",
       "      <th>Bonds_Price_Spread_10Y_3M</th>\n",
       "      <td>6912.0</td>\n",
       "      <td>1.371427</td>\n",
       "      <td>1.303365</td>\n",
       "      <td>-1.894000</td>\n",
       "      <td>0.326500</td>\n",
       "      <td>1.469000</td>\n",
       "      <td>2.397000</td>\n",
       "      <td>3.875000</td>\n",
       "    </tr>\n",
       "    <tr>\n",
       "      <th>Bonds_Price_Spread_10Y_2Y</th>\n",
       "      <td>6912.0</td>\n",
       "      <td>1.022289</td>\n",
       "      <td>0.973155</td>\n",
       "      <td>-1.082000</td>\n",
       "      <td>0.192750</td>\n",
       "      <td>0.982500</td>\n",
       "      <td>1.857000</td>\n",
       "      <td>2.910000</td>\n",
       "    </tr>\n",
       "    <tr>\n",
       "      <th>Matif_Prices</th>\n",
       "      <td>6912.0</td>\n",
       "      <td>177.888323</td>\n",
       "      <td>58.094662</td>\n",
       "      <td>99.000000</td>\n",
       "      <td>125.000000</td>\n",
       "      <td>172.500000</td>\n",
       "      <td>210.500000</td>\n",
       "      <td>438.250000</td>\n",
       "    </tr>\n",
       "  </tbody>\n",
       "</table>\n",
       "</div>"
      ],
      "text/plain": [
       "                                                 count        mean        std  \\\n",
       "Month                                           6912.0    6.529803   3.434735   \n",
       "Supply_to_Demand_World_Less_China_CoarseGrains  6912.0    1.103697   0.017546   \n",
       "Consumption_per_Capita_US_Wheat_+_CoarseGrains  6912.0  493.217861  58.501056   \n",
       "Consumption_per_Capita_MEwUS_CornFeed           6912.0  349.237951  55.006678   \n",
       "Consumption_To_Production_ME_CoarseGrains       6912.0    0.673447   0.074281   \n",
       "Consumption_To_Production_MEwoEU_CoarseGrains   6912.0    0.673447   0.074281   \n",
       "Supply_per_Capita_MEwoEU_Corn                   6912.0  417.051680  79.612518   \n",
       "Supply_to_Demand_MIwoChina_CoarseGrains         6912.0    1.109991   0.019481   \n",
       "Stock_to_Use_MIwoChina_CoarseGrains             6912.0    0.114451   0.022156   \n",
       "Stock_per_Capita_MIwoChina_CoarseGrains         6912.0   21.279842   4.165293   \n",
       "Supply_to_Demand_EU_WheatPlusCoarseGrains       6912.0    1.102873   0.030148   \n",
       "Consumption_per_Capita_EU_CoarseGrains          6912.0  302.668776  26.899394   \n",
       "Consumption_per_Capita_EU_WheatFeed             6912.0  113.393305  11.456645   \n",
       "Consumption_per_Capita_China_WheatFeed          6912.0   10.641135   7.734487   \n",
       "Oil_Average_Prices                              6912.0   61.377427  26.330094   \n",
       "GDP_deflator                                    6912.0  119.942218  17.270567   \n",
       "Long_term_interest_rates                        6912.0    2.399637   1.800904   \n",
       "Short_term_interest_rates                       6912.0    1.695865   1.771195   \n",
       "US_Dollar_Index                                 6912.0   93.097191  11.098251   \n",
       "Bonds_Price_Spread_10Y_3M                       6912.0    1.371427   1.303365   \n",
       "Bonds_Price_Spread_10Y_2Y                       6912.0    1.022289   0.973155   \n",
       "Matif_Prices                                    6912.0  177.888323  58.094662   \n",
       "\n",
       "                                                       min         25%  \\\n",
       "Month                                             1.000000    4.000000   \n",
       "Supply_to_Demand_World_Less_China_CoarseGrains    1.069316    1.089272   \n",
       "Consumption_per_Capita_US_Wheat_+_CoarseGrains  365.624480  452.310691   \n",
       "Consumption_per_Capita_MEwUS_CornFeed           262.205552  296.710953   \n",
       "Consumption_To_Production_ME_CoarseGrains         0.550545    0.613306   \n",
       "Consumption_To_Production_MEwoEU_CoarseGrains     0.550545    0.613306   \n",
       "Supply_per_Capita_MEwoEU_Corn                   258.086032  334.793021   \n",
       "Supply_to_Demand_MIwoChina_CoarseGrains           1.078000    1.091752   \n",
       "Stock_to_Use_MIwoChina_CoarseGrains               0.080329    0.094214   \n",
       "Stock_per_Capita_MIwoChina_CoarseGrains          15.786751   18.035352   \n",
       "Supply_to_Demand_EU_WheatPlusCoarseGrains         1.065932    1.079799   \n",
       "Consumption_per_Capita_EU_CoarseGrains          249.627481  289.376420   \n",
       "Consumption_per_Capita_EU_WheatFeed              91.618519  103.972015   \n",
       "Consumption_per_Capita_China_WheatFeed            0.000000    3.179374   \n",
       "Oil_Average_Prices                               10.720000   40.237500   \n",
       "GDP_deflator                                    100.000000  106.120096   \n",
       "Long_term_interest_rates                         -0.649091    0.553217   \n",
       "Short_term_interest_rates                        -0.581956   -0.053591   \n",
       "US_Dollar_Index                                  71.304000   83.010000   \n",
       "Bonds_Price_Spread_10Y_3M                        -1.894000    0.326500   \n",
       "Bonds_Price_Spread_10Y_2Y                        -1.082000    0.192750   \n",
       "Matif_Prices                                     99.000000  125.000000   \n",
       "\n",
       "                                                       50%         75%  \\\n",
       "Month                                             7.000000   10.000000   \n",
       "Supply_to_Demand_World_Less_China_CoarseGrains    1.103891    1.117832   \n",
       "Consumption_per_Capita_US_Wheat_+_CoarseGrains  471.436411  547.234986   \n",
       "Consumption_per_Capita_MEwUS_CornFeed           329.987527  408.607132   \n",
       "Consumption_To_Production_ME_CoarseGrains         0.677297    0.732454   \n",
       "Consumption_To_Production_MEwoEU_CoarseGrains     0.677297    0.732454   \n",
       "Supply_per_Capita_MEwoEU_Corn                   439.232055  481.958374   \n",
       "Supply_to_Demand_MIwoChina_CoarseGrains           1.109460    1.123110   \n",
       "Stock_to_Use_MIwoChina_CoarseGrains               0.112392    0.129902   \n",
       "Stock_per_Capita_MIwoChina_CoarseGrains          20.349529   23.498172   \n",
       "Supply_to_Demand_EU_WheatPlusCoarseGrains         1.089130    1.123326   \n",
       "Consumption_per_Capita_EU_CoarseGrains          303.317810  320.825707   \n",
       "Consumption_per_Capita_EU_WheatFeed             111.653424  124.263592   \n",
       "Consumption_per_Capita_China_WheatFeed            9.362528   16.260572   \n",
       "Oil_Average_Prices                               61.335000   80.252500   \n",
       "GDP_deflator                                    114.918413  129.431731   \n",
       "Long_term_interest_rates                          2.519546    4.012105   \n",
       "Short_term_interest_rates                         1.552087    3.344889   \n",
       "US_Dollar_Index                                  93.812000  100.582500   \n",
       "Bonds_Price_Spread_10Y_3M                         1.469000    2.397000   \n",
       "Bonds_Price_Spread_10Y_2Y                         0.982500    1.857000   \n",
       "Matif_Prices                                    172.500000  210.500000   \n",
       "\n",
       "                                                       max  \n",
       "Month                                            12.000000  \n",
       "Supply_to_Demand_World_Less_China_CoarseGrains    1.147416  \n",
       "Consumption_per_Capita_US_Wheat_+_CoarseGrains  626.494191  \n",
       "Consumption_per_Capita_MEwUS_CornFeed           439.742872  \n",
       "Consumption_To_Production_ME_CoarseGrains         0.878543  \n",
       "Consumption_To_Production_MEwoEU_CoarseGrains     0.878543  \n",
       "Supply_per_Capita_MEwoEU_Corn                   545.034876  \n",
       "Supply_to_Demand_MIwoChina_CoarseGrains           1.156775  \n",
       "Stock_to_Use_MIwoChina_CoarseGrains               0.174645  \n",
       "Stock_per_Capita_MIwoChina_CoarseGrains          33.688865  \n",
       "Supply_to_Demand_EU_WheatPlusCoarseGrains         1.193718  \n",
       "Consumption_per_Capita_EU_CoarseGrains          353.202355  \n",
       "Consumption_per_Capita_EU_WheatFeed             138.746055  \n",
       "Consumption_per_Capita_China_WheatFeed           28.468653  \n",
       "Oil_Average_Prices                              145.290000  \n",
       "GDP_deflator                                    163.768123  \n",
       "Long_term_interest_rates                          5.539524  \n",
       "Short_term_interest_rates                         5.113087  \n",
       "US_Dollar_Index                                 121.210000  \n",
       "Bonds_Price_Spread_10Y_3M                         3.875000  \n",
       "Bonds_Price_Spread_10Y_2Y                         2.910000  \n",
       "Matif_Prices                                    438.250000  "
      ]
     },
     "metadata": {},
     "output_type": "display_data"
    },
    {
     "data": {
      "application/vnd.microsoft.datawrangler.viewer.v0+json": {
       "columns": [
        {
         "name": "index",
         "rawType": "object",
         "type": "string"
        },
        {
         "name": "missing_rate",
         "rawType": "float64",
         "type": "float"
        }
       ],
       "ref": "805c72aa-e9f9-40fc-914d-4b2f1d216f8e",
       "rows": [
        [
         "Month",
         "0.0"
        ],
        [
         "Supply_to_Demand_World_Less_China_CoarseGrains",
         "0.0"
        ],
        [
         "Bonds_Price_Spread_10Y_2Y",
         "0.0"
        ],
        [
         "Bonds_Price_Spread_10Y_3M",
         "0.0"
        ],
        [
         "US_Dollar_Index",
         "0.0"
        ],
        [
         "Short_term_interest_rates",
         "0.0"
        ],
        [
         "Long_term_interest_rates",
         "0.0"
        ],
        [
         "GDP_deflator",
         "0.0"
        ],
        [
         "Oil_Average_Prices",
         "0.0"
        ],
        [
         "Consumption_per_Capita_China_WheatFeed",
         "0.0"
        ],
        [
         "Consumption_per_Capita_EU_WheatFeed",
         "0.0"
        ],
        [
         "Consumption_per_Capita_EU_CoarseGrains",
         "0.0"
        ],
        [
         "Supply_to_Demand_EU_WheatPlusCoarseGrains",
         "0.0"
        ],
        [
         "Stock_per_Capita_MIwoChina_CoarseGrains",
         "0.0"
        ],
        [
         "Stock_to_Use_MIwoChina_CoarseGrains",
         "0.0"
        ],
        [
         "Supply_to_Demand_MIwoChina_CoarseGrains",
         "0.0"
        ],
        [
         "Supply_per_Capita_MEwoEU_Corn",
         "0.0"
        ],
        [
         "Consumption_To_Production_MEwoEU_CoarseGrains",
         "0.0"
        ],
        [
         "Consumption_To_Production_ME_CoarseGrains",
         "0.0"
        ],
        [
         "Consumption_per_Capita_MEwUS_CornFeed",
         "0.0"
        ],
        [
         "Consumption_per_Capita_US_Wheat_+_CoarseGrains",
         "0.0"
        ],
        [
         "Matif_Prices",
         "0.0"
        ]
       ],
       "shape": {
        "columns": 1,
        "rows": 22
       }
      },
      "text/html": [
       "<div>\n",
       "<style scoped>\n",
       "    .dataframe tbody tr th:only-of-type {\n",
       "        vertical-align: middle;\n",
       "    }\n",
       "\n",
       "    .dataframe tbody tr th {\n",
       "        vertical-align: top;\n",
       "    }\n",
       "\n",
       "    .dataframe thead th {\n",
       "        text-align: right;\n",
       "    }\n",
       "</style>\n",
       "<table border=\"1\" class=\"dataframe\">\n",
       "  <thead>\n",
       "    <tr style=\"text-align: right;\">\n",
       "      <th></th>\n",
       "      <th>missing_rate</th>\n",
       "    </tr>\n",
       "  </thead>\n",
       "  <tbody>\n",
       "    <tr>\n",
       "      <th>Month</th>\n",
       "      <td>0.0</td>\n",
       "    </tr>\n",
       "    <tr>\n",
       "      <th>Supply_to_Demand_World_Less_China_CoarseGrains</th>\n",
       "      <td>0.0</td>\n",
       "    </tr>\n",
       "    <tr>\n",
       "      <th>Bonds_Price_Spread_10Y_2Y</th>\n",
       "      <td>0.0</td>\n",
       "    </tr>\n",
       "    <tr>\n",
       "      <th>Bonds_Price_Spread_10Y_3M</th>\n",
       "      <td>0.0</td>\n",
       "    </tr>\n",
       "    <tr>\n",
       "      <th>US_Dollar_Index</th>\n",
       "      <td>0.0</td>\n",
       "    </tr>\n",
       "    <tr>\n",
       "      <th>Short_term_interest_rates</th>\n",
       "      <td>0.0</td>\n",
       "    </tr>\n",
       "    <tr>\n",
       "      <th>Long_term_interest_rates</th>\n",
       "      <td>0.0</td>\n",
       "    </tr>\n",
       "    <tr>\n",
       "      <th>GDP_deflator</th>\n",
       "      <td>0.0</td>\n",
       "    </tr>\n",
       "    <tr>\n",
       "      <th>Oil_Average_Prices</th>\n",
       "      <td>0.0</td>\n",
       "    </tr>\n",
       "    <tr>\n",
       "      <th>Consumption_per_Capita_China_WheatFeed</th>\n",
       "      <td>0.0</td>\n",
       "    </tr>\n",
       "    <tr>\n",
       "      <th>Consumption_per_Capita_EU_WheatFeed</th>\n",
       "      <td>0.0</td>\n",
       "    </tr>\n",
       "    <tr>\n",
       "      <th>Consumption_per_Capita_EU_CoarseGrains</th>\n",
       "      <td>0.0</td>\n",
       "    </tr>\n",
       "    <tr>\n",
       "      <th>Supply_to_Demand_EU_WheatPlusCoarseGrains</th>\n",
       "      <td>0.0</td>\n",
       "    </tr>\n",
       "    <tr>\n",
       "      <th>Stock_per_Capita_MIwoChina_CoarseGrains</th>\n",
       "      <td>0.0</td>\n",
       "    </tr>\n",
       "    <tr>\n",
       "      <th>Stock_to_Use_MIwoChina_CoarseGrains</th>\n",
       "      <td>0.0</td>\n",
       "    </tr>\n",
       "    <tr>\n",
       "      <th>Supply_to_Demand_MIwoChina_CoarseGrains</th>\n",
       "      <td>0.0</td>\n",
       "    </tr>\n",
       "    <tr>\n",
       "      <th>Supply_per_Capita_MEwoEU_Corn</th>\n",
       "      <td>0.0</td>\n",
       "    </tr>\n",
       "    <tr>\n",
       "      <th>Consumption_To_Production_MEwoEU_CoarseGrains</th>\n",
       "      <td>0.0</td>\n",
       "    </tr>\n",
       "    <tr>\n",
       "      <th>Consumption_To_Production_ME_CoarseGrains</th>\n",
       "      <td>0.0</td>\n",
       "    </tr>\n",
       "    <tr>\n",
       "      <th>Consumption_per_Capita_MEwUS_CornFeed</th>\n",
       "      <td>0.0</td>\n",
       "    </tr>\n",
       "    <tr>\n",
       "      <th>Consumption_per_Capita_US_Wheat_+_CoarseGrains</th>\n",
       "      <td>0.0</td>\n",
       "    </tr>\n",
       "    <tr>\n",
       "      <th>Matif_Prices</th>\n",
       "      <td>0.0</td>\n",
       "    </tr>\n",
       "  </tbody>\n",
       "</table>\n",
       "</div>"
      ],
      "text/plain": [
       "                                                missing_rate\n",
       "Month                                                    0.0\n",
       "Supply_to_Demand_World_Less_China_CoarseGrains           0.0\n",
       "Bonds_Price_Spread_10Y_2Y                                0.0\n",
       "Bonds_Price_Spread_10Y_3M                                0.0\n",
       "US_Dollar_Index                                          0.0\n",
       "Short_term_interest_rates                                0.0\n",
       "Long_term_interest_rates                                 0.0\n",
       "GDP_deflator                                             0.0\n",
       "Oil_Average_Prices                                       0.0\n",
       "Consumption_per_Capita_China_WheatFeed                   0.0\n",
       "Consumption_per_Capita_EU_WheatFeed                      0.0\n",
       "Consumption_per_Capita_EU_CoarseGrains                   0.0\n",
       "Supply_to_Demand_EU_WheatPlusCoarseGrains                0.0\n",
       "Stock_per_Capita_MIwoChina_CoarseGrains                  0.0\n",
       "Stock_to_Use_MIwoChina_CoarseGrains                      0.0\n",
       "Supply_to_Demand_MIwoChina_CoarseGrains                  0.0\n",
       "Supply_per_Capita_MEwoEU_Corn                            0.0\n",
       "Consumption_To_Production_MEwoEU_CoarseGrains            0.0\n",
       "Consumption_To_Production_ME_CoarseGrains                0.0\n",
       "Consumption_per_Capita_MEwUS_CornFeed                    0.0\n",
       "Consumption_per_Capita_US_Wheat_+_CoarseGrains           0.0\n",
       "Matif_Prices                                             0.0"
      ]
     },
     "metadata": {},
     "output_type": "display_data"
    }
   ],
   "source": [
    "print(df.info())               # types + non-null counts\n",
    "display(df.describe().T)       # ranges, means, stds\n",
    "display(df.isna().mean().sort_values(ascending=False).to_frame('missing_rate'))\n"
   ]
  },
  {
   "cell_type": "markdown",
   "id": "f956a93f",
   "metadata": {},
   "source": [
    "Features frequency checks"
   ]
  },
  {
   "cell_type": "code",
   "execution_count": 3,
   "id": "331b4ab1",
   "metadata": {},
   "outputs": [
    {
     "data": {
      "application/vnd.microsoft.datawrangler.viewer.v0+json": {
       "columns": [
        {
         "name": "feature",
         "rawType": "object",
         "type": "string"
        },
        {
         "name": "median_days_between_updates",
         "rawType": "float64",
         "type": "float"
        },
        {
         "name": "mean_days_between_updates",
         "rawType": "float64",
         "type": "float"
        },
        {
         "name": "pct_days_with_change",
         "rawType": "float64",
         "type": "float"
        }
       ],
       "ref": "a8ce827d-fd95-42d6-bc9f-e417fd1da61d",
       "rows": [
        [
         "Matif_Prices",
         "1.0",
         "1.6580363147276396",
         "0.8606770833333334"
        ],
        [
         "Bonds_Price_Spread_10Y_3M",
         "1.0",
         "1.4640736342042755",
         "0.9746817129629629"
        ],
        [
         "US_Dollar_Index",
         "1.0",
         "1.4645084645084645",
         "0.9743923611111112"
        ],
        [
         "Oil_Average_Prices",
         "1.0",
         "1.4348901498617779",
         "0.9945023148148148"
        ],
        [
         "Bonds_Price_Spread_10Y_2Y",
         "1.0",
         "1.468871015787906",
         "0.9714988425925926"
        ],
        [
         "Short_term_interest_rates",
         "30.0",
         "30.82445141065831",
         "0.046296296296296294"
        ],
        [
         "Long_term_interest_rates",
         "30.0",
         "30.728125",
         "0.046440972222222224"
        ],
        [
         "Consumption_per_Capita_China_WheatFeed",
         "30.0",
         "30.402476780185758",
         "0.046875"
        ],
        [
         "Consumption_per_Capita_EU_WheatFeed",
         "30.0",
         "30.71875",
         "0.046440972222222224"
        ],
        [
         "Supply_to_Demand_World_Less_China_CoarseGrains",
         "30.0",
         "30.71875",
         "0.046440972222222224"
        ],
        [
         "Stock_per_Capita_MIwoChina_CoarseGrains",
         "30.0",
         "30.71875",
         "0.046440972222222224"
        ],
        [
         "Stock_to_Use_MIwoChina_CoarseGrains",
         "30.0",
         "30.71875",
         "0.046440972222222224"
        ],
        [
         "Supply_to_Demand_MIwoChina_CoarseGrains",
         "30.0",
         "30.71875",
         "0.046440972222222224"
        ],
        [
         "Supply_per_Capita_MEwoEU_Corn",
         "30.0",
         "30.71875",
         "0.046440972222222224"
        ],
        [
         "Consumption_To_Production_MEwoEU_CoarseGrains",
         "30.0",
         "31.405750798722046",
         "0.04542824074074074"
        ],
        [
         "Consumption_To_Production_ME_CoarseGrains",
         "30.0",
         "31.405750798722046",
         "0.04542824074074074"
        ],
        [
         "Consumption_per_Capita_MEwUS_CornFeed",
         "30.0",
         "30.71875",
         "0.046440972222222224"
        ],
        [
         "Consumption_per_Capita_US_Wheat_+_CoarseGrains",
         "30.0",
         "30.71875",
         "0.046440972222222224"
        ],
        [
         "Supply_to_Demand_EU_WheatPlusCoarseGrains",
         "30.0",
         "30.71875",
         "0.046440972222222224"
        ],
        [
         "Consumption_per_Capita_EU_CoarseGrains",
         "30.0",
         "30.71875",
         "0.046440972222222224"
        ],
        [
         "GDP_deflator",
         "91.0",
         "90.92523364485982",
         "0.015625"
        ]
       ],
       "shape": {
        "columns": 3,
        "rows": 21
       }
      },
      "text/html": [
       "<div>\n",
       "<style scoped>\n",
       "    .dataframe tbody tr th:only-of-type {\n",
       "        vertical-align: middle;\n",
       "    }\n",
       "\n",
       "    .dataframe tbody tr th {\n",
       "        vertical-align: top;\n",
       "    }\n",
       "\n",
       "    .dataframe thead th {\n",
       "        text-align: right;\n",
       "    }\n",
       "</style>\n",
       "<table border=\"1\" class=\"dataframe\">\n",
       "  <thead>\n",
       "    <tr style=\"text-align: right;\">\n",
       "      <th></th>\n",
       "      <th>median_days_between_updates</th>\n",
       "      <th>mean_days_between_updates</th>\n",
       "      <th>pct_days_with_change</th>\n",
       "    </tr>\n",
       "    <tr>\n",
       "      <th>feature</th>\n",
       "      <th></th>\n",
       "      <th></th>\n",
       "      <th></th>\n",
       "    </tr>\n",
       "  </thead>\n",
       "  <tbody>\n",
       "    <tr>\n",
       "      <th>Matif_Prices</th>\n",
       "      <td>1.0</td>\n",
       "      <td>1.658036</td>\n",
       "      <td>0.860677</td>\n",
       "    </tr>\n",
       "    <tr>\n",
       "      <th>Bonds_Price_Spread_10Y_3M</th>\n",
       "      <td>1.0</td>\n",
       "      <td>1.464074</td>\n",
       "      <td>0.974682</td>\n",
       "    </tr>\n",
       "    <tr>\n",
       "      <th>US_Dollar_Index</th>\n",
       "      <td>1.0</td>\n",
       "      <td>1.464508</td>\n",
       "      <td>0.974392</td>\n",
       "    </tr>\n",
       "    <tr>\n",
       "      <th>Oil_Average_Prices</th>\n",
       "      <td>1.0</td>\n",
       "      <td>1.434890</td>\n",
       "      <td>0.994502</td>\n",
       "    </tr>\n",
       "    <tr>\n",
       "      <th>Bonds_Price_Spread_10Y_2Y</th>\n",
       "      <td>1.0</td>\n",
       "      <td>1.468871</td>\n",
       "      <td>0.971499</td>\n",
       "    </tr>\n",
       "    <tr>\n",
       "      <th>Short_term_interest_rates</th>\n",
       "      <td>30.0</td>\n",
       "      <td>30.824451</td>\n",
       "      <td>0.046296</td>\n",
       "    </tr>\n",
       "    <tr>\n",
       "      <th>Long_term_interest_rates</th>\n",
       "      <td>30.0</td>\n",
       "      <td>30.728125</td>\n",
       "      <td>0.046441</td>\n",
       "    </tr>\n",
       "    <tr>\n",
       "      <th>Consumption_per_Capita_China_WheatFeed</th>\n",
       "      <td>30.0</td>\n",
       "      <td>30.402477</td>\n",
       "      <td>0.046875</td>\n",
       "    </tr>\n",
       "    <tr>\n",
       "      <th>Consumption_per_Capita_EU_WheatFeed</th>\n",
       "      <td>30.0</td>\n",
       "      <td>30.718750</td>\n",
       "      <td>0.046441</td>\n",
       "    </tr>\n",
       "    <tr>\n",
       "      <th>Supply_to_Demand_World_Less_China_CoarseGrains</th>\n",
       "      <td>30.0</td>\n",
       "      <td>30.718750</td>\n",
       "      <td>0.046441</td>\n",
       "    </tr>\n",
       "    <tr>\n",
       "      <th>Stock_per_Capita_MIwoChina_CoarseGrains</th>\n",
       "      <td>30.0</td>\n",
       "      <td>30.718750</td>\n",
       "      <td>0.046441</td>\n",
       "    </tr>\n",
       "    <tr>\n",
       "      <th>Stock_to_Use_MIwoChina_CoarseGrains</th>\n",
       "      <td>30.0</td>\n",
       "      <td>30.718750</td>\n",
       "      <td>0.046441</td>\n",
       "    </tr>\n",
       "    <tr>\n",
       "      <th>Supply_to_Demand_MIwoChina_CoarseGrains</th>\n",
       "      <td>30.0</td>\n",
       "      <td>30.718750</td>\n",
       "      <td>0.046441</td>\n",
       "    </tr>\n",
       "    <tr>\n",
       "      <th>Supply_per_Capita_MEwoEU_Corn</th>\n",
       "      <td>30.0</td>\n",
       "      <td>30.718750</td>\n",
       "      <td>0.046441</td>\n",
       "    </tr>\n",
       "    <tr>\n",
       "      <th>Consumption_To_Production_MEwoEU_CoarseGrains</th>\n",
       "      <td>30.0</td>\n",
       "      <td>31.405751</td>\n",
       "      <td>0.045428</td>\n",
       "    </tr>\n",
       "    <tr>\n",
       "      <th>Consumption_To_Production_ME_CoarseGrains</th>\n",
       "      <td>30.0</td>\n",
       "      <td>31.405751</td>\n",
       "      <td>0.045428</td>\n",
       "    </tr>\n",
       "    <tr>\n",
       "      <th>Consumption_per_Capita_MEwUS_CornFeed</th>\n",
       "      <td>30.0</td>\n",
       "      <td>30.718750</td>\n",
       "      <td>0.046441</td>\n",
       "    </tr>\n",
       "    <tr>\n",
       "      <th>Consumption_per_Capita_US_Wheat_+_CoarseGrains</th>\n",
       "      <td>30.0</td>\n",
       "      <td>30.718750</td>\n",
       "      <td>0.046441</td>\n",
       "    </tr>\n",
       "    <tr>\n",
       "      <th>Supply_to_Demand_EU_WheatPlusCoarseGrains</th>\n",
       "      <td>30.0</td>\n",
       "      <td>30.718750</td>\n",
       "      <td>0.046441</td>\n",
       "    </tr>\n",
       "    <tr>\n",
       "      <th>Consumption_per_Capita_EU_CoarseGrains</th>\n",
       "      <td>30.0</td>\n",
       "      <td>30.718750</td>\n",
       "      <td>0.046441</td>\n",
       "    </tr>\n",
       "    <tr>\n",
       "      <th>GDP_deflator</th>\n",
       "      <td>91.0</td>\n",
       "      <td>90.925234</td>\n",
       "      <td>0.015625</td>\n",
       "    </tr>\n",
       "  </tbody>\n",
       "</table>\n",
       "</div>"
      ],
      "text/plain": [
       "                                                median_days_between_updates  \\\n",
       "feature                                                                       \n",
       "Matif_Prices                                                            1.0   \n",
       "Bonds_Price_Spread_10Y_3M                                               1.0   \n",
       "US_Dollar_Index                                                         1.0   \n",
       "Oil_Average_Prices                                                      1.0   \n",
       "Bonds_Price_Spread_10Y_2Y                                               1.0   \n",
       "Short_term_interest_rates                                              30.0   \n",
       "Long_term_interest_rates                                               30.0   \n",
       "Consumption_per_Capita_China_WheatFeed                                 30.0   \n",
       "Consumption_per_Capita_EU_WheatFeed                                    30.0   \n",
       "Supply_to_Demand_World_Less_China_CoarseGrains                         30.0   \n",
       "Stock_per_Capita_MIwoChina_CoarseGrains                                30.0   \n",
       "Stock_to_Use_MIwoChina_CoarseGrains                                    30.0   \n",
       "Supply_to_Demand_MIwoChina_CoarseGrains                                30.0   \n",
       "Supply_per_Capita_MEwoEU_Corn                                          30.0   \n",
       "Consumption_To_Production_MEwoEU_CoarseGrains                          30.0   \n",
       "Consumption_To_Production_ME_CoarseGrains                              30.0   \n",
       "Consumption_per_Capita_MEwUS_CornFeed                                  30.0   \n",
       "Consumption_per_Capita_US_Wheat_+_CoarseGrains                         30.0   \n",
       "Supply_to_Demand_EU_WheatPlusCoarseGrains                              30.0   \n",
       "Consumption_per_Capita_EU_CoarseGrains                                 30.0   \n",
       "GDP_deflator                                                           91.0   \n",
       "\n",
       "                                                mean_days_between_updates  \\\n",
       "feature                                                                     \n",
       "Matif_Prices                                                     1.658036   \n",
       "Bonds_Price_Spread_10Y_3M                                        1.464074   \n",
       "US_Dollar_Index                                                  1.464508   \n",
       "Oil_Average_Prices                                               1.434890   \n",
       "Bonds_Price_Spread_10Y_2Y                                        1.468871   \n",
       "Short_term_interest_rates                                       30.824451   \n",
       "Long_term_interest_rates                                        30.728125   \n",
       "Consumption_per_Capita_China_WheatFeed                          30.402477   \n",
       "Consumption_per_Capita_EU_WheatFeed                             30.718750   \n",
       "Supply_to_Demand_World_Less_China_CoarseGrains                  30.718750   \n",
       "Stock_per_Capita_MIwoChina_CoarseGrains                         30.718750   \n",
       "Stock_to_Use_MIwoChina_CoarseGrains                             30.718750   \n",
       "Supply_to_Demand_MIwoChina_CoarseGrains                         30.718750   \n",
       "Supply_per_Capita_MEwoEU_Corn                                   30.718750   \n",
       "Consumption_To_Production_MEwoEU_CoarseGrains                   31.405751   \n",
       "Consumption_To_Production_ME_CoarseGrains                       31.405751   \n",
       "Consumption_per_Capita_MEwUS_CornFeed                           30.718750   \n",
       "Consumption_per_Capita_US_Wheat_+_CoarseGrains                  30.718750   \n",
       "Supply_to_Demand_EU_WheatPlusCoarseGrains                       30.718750   \n",
       "Consumption_per_Capita_EU_CoarseGrains                          30.718750   \n",
       "GDP_deflator                                                    90.925234   \n",
       "\n",
       "                                                pct_days_with_change  \n",
       "feature                                                               \n",
       "Matif_Prices                                                0.860677  \n",
       "Bonds_Price_Spread_10Y_3M                                   0.974682  \n",
       "US_Dollar_Index                                             0.974392  \n",
       "Oil_Average_Prices                                          0.994502  \n",
       "Bonds_Price_Spread_10Y_2Y                                   0.971499  \n",
       "Short_term_interest_rates                                   0.046296  \n",
       "Long_term_interest_rates                                    0.046441  \n",
       "Consumption_per_Capita_China_WheatFeed                      0.046875  \n",
       "Consumption_per_Capita_EU_WheatFeed                         0.046441  \n",
       "Supply_to_Demand_World_Less_China_CoarseGrains              0.046441  \n",
       "Stock_per_Capita_MIwoChina_CoarseGrains                     0.046441  \n",
       "Stock_to_Use_MIwoChina_CoarseGrains                         0.046441  \n",
       "Supply_to_Demand_MIwoChina_CoarseGrains                     0.046441  \n",
       "Supply_per_Capita_MEwoEU_Corn                               0.046441  \n",
       "Consumption_To_Production_MEwoEU_CoarseGrains               0.045428  \n",
       "Consumption_To_Production_ME_CoarseGrains                   0.045428  \n",
       "Consumption_per_Capita_MEwUS_CornFeed                       0.046441  \n",
       "Consumption_per_Capita_US_Wheat_+_CoarseGrains              0.046441  \n",
       "Supply_to_Demand_EU_WheatPlusCoarseGrains                   0.046441  \n",
       "Consumption_per_Capita_EU_CoarseGrains                      0.046441  \n",
       "GDP_deflator                                                0.015625  "
      ]
     },
     "metadata": {},
     "output_type": "display_data"
    }
   ],
   "source": [
    "def update_cadence_table(data):\n",
    "    rows = []\n",
    "    for col in data.columns:\n",
    "        s = data[col]\n",
    "        changed = s.ne(s.shift(1))\n",
    "        change_dates = s.index[changed.fillna(False)]\n",
    "        if len(change_dates) < 2:\n",
    "            rows.append((col, np.nan, np.nan, changed.mean()))\n",
    "            continue\n",
    "        gaps = change_dates.to_series().diff().dt.days.dropna()\n",
    "        rows.append((col, gaps.median(), gaps.mean(), changed.mean()))\n",
    "    return pd.DataFrame(rows, columns=['feature','median_days_between_updates','mean_days_between_updates','pct_days_with_change']).set_index('feature')\n",
    "\n",
    "cadence = update_cadence_table(df.drop(columns=['Month'], errors='ignore'))\n",
    "display(cadence.sort_values('median_days_between_updates'))\n"
   ]
  },
  {
   "cell_type": "code",
   "execution_count": 4,
   "id": "89f1c966",
   "metadata": {},
   "outputs": [],
   "source": [
    "# 1) daily forward-fill to align calendars, then weekly (Friday close)\n",
    "dfw = df.asfreq('D').ffill().resample('W-FRI').last()\n",
    "\n",
    "# Target: weekly log return of Matif prices\n",
    "price_col = 'Matif_Prices'\n",
    "dfw['log_ret'] = (np.log(dfw[price_col]) - np.log(dfw[price_col].shift(1)))\n",
    "dfw = dfw.dropna(subset=['log_ret'])\n"
   ]
  },
  {
   "cell_type": "code",
   "execution_count": 5,
   "id": "4e161936",
   "metadata": {},
   "outputs": [],
   "source": [
    "def to_weekly(s):\n",
    "    return s.asfreq('D').ffill().resample('W-FRI').last()\n",
    "\n",
    "def end_of_month(s):\n",
    "    return s.asfreq('D').ffill().resample('M').last()\n",
    "\n",
    "def end_of_quarter(s):\n",
    "    return s.asfreq('D').ffill().resample('Q').last()\n",
    "\n",
    "def change_series(s):\n",
    "    \"\"\"log-diff if strictly positive, else simple diff.\"\"\"\n",
    "    if (s.dropna() > 0).all():\n",
    "        return np.log(s).diff()\n",
    "    return s.diff()\n",
    "\n",
    "dfw = to_weekly(df)\n",
    "price = 'Matif_Prices'\n",
    "dfw['log_ret'] = np.log(dfw[price]) - np.log(dfw[price].shift(1))\n",
    "\n",
    "daily_pos = ['US_Dollar_Index','Oil_Average_Prices']  # positive → log-diff OK\n",
    "daily_signed = ['Bonds_Price_Spread_10Y_3M','Bonds_Price_Spread_10Y_2Y']  # can be <0 → diff\n",
    "\n",
    "for c in daily_pos:\n",
    "    if c in df: dfw[c+'_wk_ld']   = change_series(to_weekly(df[c]))     # will be log-diff\n",
    "for c in daily_signed:\n",
    "    if c in df: dfw[c+'_wk_diff'] = change_series(to_weekly(df[c]))     # will be diff\n",
    "\n",
    "monthly_like = [\n",
    " 'Short_term_interest_rates','Long_term_interest_rates',\n",
    " 'Supply_to_Demand_World_Less_China_CoarseGrains',\n",
    " 'Consumption_per_Capita_US_Wheat_+_CoarseGrains',\n",
    " 'Consumption_per_Capita_MEwUS_CornFeed',\n",
    " 'Consumption_To_Production_ME_CoarseGrains',\n",
    " 'Consumption_To_Production_MEwoEU_CoarseGrains',\n",
    " 'Supply_per_Capita_MEwoEU_Corn',\n",
    " 'Supply_to_Demand_MIwoChina_CoarseGrains',\n",
    " 'Stock_to_Use_MIwoChina_CoarseGrains',\n",
    " 'Stock_per_Capita_MIwoChina_CoarseGrains',\n",
    " 'Supply_to_Demand_EU_WheatPlusCoarseGrains',\n",
    " 'Consumption_per_Capita_EU_CoarseGrains',\n",
    " 'Consumption_per_Capita_EU_WheatFeed',\n",
    " 'Consumption_per_Capita_China_WheatFeed'\n",
    "]\n",
    "\n",
    "for c in monthly_like:\n",
    "    if c in df:\n",
    "        m = end_of_month(df[c])\n",
    "        x = change_series(m)                             # log-diff if >0 else diff\n",
    "        w = x.reindex(dfw.index, method='ffill')\n",
    "        dfw[c+'_m_chg_pub'] = w.shift(4)                 # ~4-week publication lag\n",
    "\n",
    "if 'GDP_deflator' in df:\n",
    "    q = end_of_quarter(df['GDP_deflator'])\n",
    "    x = change_series(q)\n",
    "    w = x.reindex(dfw.index, method='ffill')\n",
    "    dfw['GDP_deflator_q_chg_pub'] = w.shift(13)          # ~13-week pub lag\n",
    "\n",
    "# target cleanup\n",
    "dfw = dfw.dropna(subset=['log_ret'])\n"
   ]
  },
  {
   "cell_type": "code",
   "execution_count": 6,
   "id": "790d7f6d",
   "metadata": {},
   "outputs": [
    {
     "name": "stdout",
     "output_type": "stream",
     "text": [
      "GDP_deflator_q_chg_pub                                      32\n",
      "Supply_per_Capita_MEwoEU_Corn_m_chg_pub                     10\n",
      "Short_term_interest_rates_m_chg_pub                         10\n",
      "Long_term_interest_rates_m_chg_pub                          10\n",
      "Supply_to_Demand_World_Less_China_CoarseGrains_m_chg_pub    10\n",
      "Consumption_per_Capita_US_Wheat_+_CoarseGrains_m_chg_pub    10\n",
      "Consumption_per_Capita_MEwUS_CornFeed_m_chg_pub             10\n",
      "Consumption_To_Production_ME_CoarseGrains_m_chg_pub         10\n",
      "Consumption_To_Production_MEwoEU_CoarseGrains_m_chg_pub     10\n",
      "Supply_to_Demand_MIwoChina_CoarseGrains_m_chg_pub           10\n",
      "Stock_to_Use_MIwoChina_CoarseGrains_m_chg_pub               10\n",
      "Stock_per_Capita_MIwoChina_CoarseGrains_m_chg_pub           10\n",
      "Supply_to_Demand_EU_WheatPlusCoarseGrains_m_chg_pub         10\n",
      "Consumption_per_Capita_EU_CoarseGrains_m_chg_pub            10\n",
      "Consumption_per_Capita_EU_WheatFeed_m_chg_pub               10\n",
      "Consumption_per_Capita_China_WheatFeed_m_chg_pub            10\n",
      "log_ret                                                      0\n",
      "Bonds_Price_Spread_10Y_2Y_wk_diff                            0\n",
      "Bonds_Price_Spread_10Y_3M_wk_diff                            0\n",
      "Oil_Average_Prices_wk_ld                                     0\n",
      "dtype: int64\n",
      "Estimated internal NaNs: 0\n"
     ]
    }
   ],
   "source": [
    "na_counts = dfw.isna().sum().sort_values(ascending=False)\n",
    "print(na_counts.head(20))\n",
    "\n",
    "# Head-only vs internal gaps\n",
    "head_na = {c: (dfw[c].first_valid_index() - dfw.index[0]).days \n",
    "           for c in dfw.columns if dfw[c].isna().any()}\n",
    "internal_na = dfw.isna().sum().sum() - sum(int(d/7) for d in head_na.values())\n",
    "print(\"Estimated internal NaNs:\", internal_na)\n"
   ]
  },
  {
   "cell_type": "code",
   "execution_count": 7,
   "id": "4a69fdf3",
   "metadata": {},
   "outputs": [],
   "source": [
    "# Choose the columns you intend to use\n",
    "feature_cols = [c for c in dfw.columns if c.endswith(('_wk_ld','_wk_diff','_m_chg_pub','_q_chg_pub'))]\n",
    "use_cols = feature_cols + ['log_ret']\n",
    "\n",
    "first_valid = max(dfw[c].first_valid_index() for c in use_cols if dfw[c].first_valid_index() is not None)\n",
    "dfw = dfw.loc[first_valid:].copy()\n"
   ]
  },
  {
   "cell_type": "code",
   "execution_count": 8,
   "id": "2cd43416",
   "metadata": {},
   "outputs": [
    {
     "name": "stdout",
     "output_type": "stream",
     "text": [
      "Series([], dtype: int64)\n"
     ]
    }
   ],
   "source": [
    "still_na = dfw[use_cols].isna().sum().sort_values(ascending=False)\n",
    "print(still_na[still_na>0])\n",
    "\n",
    "for c in feature_cols:\n",
    "    dfw[c+'_isna'] = dfw[c].isna().astype(int)\n",
    "    # small-gap interpolation, then forward-fill\n",
    "    dfw[c] = dfw[c].interpolate(limit=2, limit_direction='forward').ffill()\n",
    "\n",
    "# If a column still has lots of NaNs (e.g., >10%), consider dropping it:\n",
    "drop_th = 0.10\n",
    "large_na = dfw[feature_cols].isna().mean()\n",
    "to_drop = large_na[large_na > drop_th].index.tolist()\n",
    "dfw = dfw.drop(columns=to_drop + [c+'_isna' for c in to_drop])\n"
   ]
  },
  {
   "cell_type": "code",
   "execution_count": 10,
   "id": "83d755d7",
   "metadata": {},
   "outputs": [
    {
     "data": {
      "application/vnd.microsoft.datawrangler.viewer.v0+json": {
       "columns": [
        {
         "name": "index",
         "rawType": "object",
         "type": "string"
        },
        {
         "name": "adf_p",
         "rawType": "float64",
         "type": "float"
        },
        {
         "name": "kpss_p",
         "rawType": "float64",
         "type": "float"
        }
       ],
       "ref": "01d67a44-681f-4c28-b2b0-f41c39bb6159",
       "rows": [
        [
         "US_Dollar_Index_wk_ld",
         "0.0",
         "0.1"
        ],
        [
         "Month",
         "2.0467620648072192e-23",
         "0.1"
        ],
        [
         "Consumption_per_Capita_China_WheatFeed_m_chg_pub",
         "9.2638868585395e-23",
         "0.1"
        ],
        [
         "Oil_Average_Prices_wk_ld",
         "4.047751118604512e-21",
         "0.1"
        ],
        [
         "Consumption_per_Capita_EU_CoarseGrains_m_chg_pub",
         "3.8766511301588797e-19",
         "0.1"
        ],
        [
         "Supply_to_Demand_MIwoChina_CoarseGrains_m_chg_pub",
         "9.016082924648185e-19",
         "0.1"
        ],
        [
         "Consumption_per_Capita_MEwUS_CornFeed_m_chg_pub",
         "2.955296376243675e-17",
         "0.1"
        ],
        [
         "Supply_to_Demand_World_Less_China_CoarseGrains_m_chg_pub",
         "2.1715528141058301e-16",
         "0.1"
        ],
        [
         "Consumption_per_Capita_US_Wheat_+_CoarseGrains_m_chg_pub",
         "3.2829633504644404e-16",
         "0.1"
        ],
        [
         "Consumption_To_Production_ME_CoarseGrains_m_chg_pub",
         "5.678720135514602e-16",
         "0.1"
        ],
        [
         "Consumption_To_Production_MEwoEU_CoarseGrains_m_chg_pub",
         "5.678720135514602e-16",
         "0.1"
        ],
        [
         "Supply_to_Demand_EU_WheatPlusCoarseGrains_m_chg_pub",
         "8.220598181074675e-16",
         "0.1"
        ],
        [
         "Consumption_per_Capita_EU_WheatFeed_m_chg_pub",
         "1.0100314497905365e-14",
         "0.1"
        ],
        [
         "Stock_to_Use_MIwoChina_CoarseGrains_m_chg_pub",
         "1.7446333549629608e-14",
         "0.1"
        ],
        [
         "Stock_per_Capita_MIwoChina_CoarseGrains_m_chg_pub",
         "7.416679652486499e-14",
         "0.1"
        ],
        [
         "Bonds_Price_Spread_10Y_3M_wk_diff",
         "3.53511089885434e-12",
         "0.1"
        ],
        [
         "Bonds_Price_Spread_10Y_2Y_wk_diff",
         "8.435803100989564e-12",
         "0.1"
        ],
        [
         "Long_term_interest_rates_m_chg_pub",
         "5.836794048480234e-11",
         "0.1"
        ],
        [
         "Supply_per_Capita_MEwoEU_Corn_m_chg_pub",
         "1.2676216010514468e-10",
         "0.1"
        ],
        [
         "Short_term_interest_rates_m_chg_pub",
         "2.684547383640514e-06",
         "0.1"
        ],
        [
         "GDP_deflator_q_chg_pub",
         "0.0019677123313600457",
         "0.01"
        ],
        [
         "Supply_to_Demand_EU_WheatPlusCoarseGrains",
         "0.007362263126806249",
         "0.01"
        ],
        [
         "Supply_to_Demand_World_Less_China_CoarseGrains",
         "0.010828013489163454",
         "0.01"
        ],
        [
         "Stock_per_Capita_MIwoChina_CoarseGrains",
         "0.01503854309674566",
         "0.01"
        ],
        [
         "Stock_to_Use_MIwoChina_CoarseGrains",
         "0.024910175593502375",
         "0.01"
        ],
        [
         "Supply_to_Demand_MIwoChina_CoarseGrains",
         "0.03206278476872059",
         "0.01"
        ],
        [
         "Oil_Average_Prices",
         "0.06541125805707915",
         "0.01"
        ],
        [
         "Bonds_Price_Spread_10Y_3M",
         "0.19752923626521945",
         "0.01"
        ],
        [
         "Consumption_To_Production_ME_CoarseGrains",
         "0.21657465135460752",
         "0.01"
        ],
        [
         "Consumption_To_Production_MEwoEU_CoarseGrains",
         "0.21657465135460752",
         "0.01"
        ],
        [
         "Short_term_interest_rates",
         "0.2574662265600662",
         "0.01"
        ],
        [
         "Bonds_Price_Spread_10Y_2Y",
         "0.3027389428368959",
         "0.01"
        ],
        [
         "Consumption_per_Capita_US_Wheat_+_CoarseGrains",
         "0.33991791876821115",
         "0.01"
        ],
        [
         "Consumption_per_Capita_EU_WheatFeed",
         "0.3538360775678214",
         "0.01"
        ],
        [
         "US_Dollar_Index",
         "0.42367606057777824",
         "0.01"
        ],
        [
         "Consumption_per_Capita_EU_CoarseGrains",
         "0.4426572586867915",
         "0.01"
        ],
        [
         "Supply_per_Capita_MEwoEU_Corn",
         "0.5058275863454007",
         "0.01"
        ],
        [
         "Long_term_interest_rates",
         "0.6691427135268586",
         "0.01"
        ],
        [
         "Consumption_per_Capita_MEwUS_CornFeed",
         "0.6927215641966095",
         "0.01"
        ],
        [
         "Consumption_per_Capita_China_WheatFeed",
         "0.830755586635243",
         "0.01"
        ],
        [
         "GDP_deflator",
         "1.0",
         "0.01"
        ],
        [
         "US_Dollar_Index_wk_ld_isna",
         null,
         null
        ],
        [
         "Oil_Average_Prices_wk_ld_isna",
         null,
         null
        ],
        [
         "Bonds_Price_Spread_10Y_3M_wk_diff_isna",
         null,
         null
        ],
        [
         "Bonds_Price_Spread_10Y_2Y_wk_diff_isna",
         null,
         null
        ],
        [
         "Short_term_interest_rates_m_chg_pub_isna",
         null,
         null
        ],
        [
         "Long_term_interest_rates_m_chg_pub_isna",
         null,
         null
        ],
        [
         "Supply_to_Demand_World_Less_China_CoarseGrains_m_chg_pub_isna",
         null,
         null
        ],
        [
         "Consumption_per_Capita_US_Wheat_+_CoarseGrains_m_chg_pub_isna",
         null,
         null
        ],
        [
         "Consumption_per_Capita_MEwUS_CornFeed_m_chg_pub_isna",
         null,
         null
        ]
       ],
       "shape": {
        "columns": 2,
        "rows": 61
       }
      },
      "text/html": [
       "<div>\n",
       "<style scoped>\n",
       "    .dataframe tbody tr th:only-of-type {\n",
       "        vertical-align: middle;\n",
       "    }\n",
       "\n",
       "    .dataframe tbody tr th {\n",
       "        vertical-align: top;\n",
       "    }\n",
       "\n",
       "    .dataframe thead th {\n",
       "        text-align: right;\n",
       "    }\n",
       "</style>\n",
       "<table border=\"1\" class=\"dataframe\">\n",
       "  <thead>\n",
       "    <tr style=\"text-align: right;\">\n",
       "      <th></th>\n",
       "      <th>adf_p</th>\n",
       "      <th>kpss_p</th>\n",
       "    </tr>\n",
       "  </thead>\n",
       "  <tbody>\n",
       "    <tr>\n",
       "      <th>US_Dollar_Index_wk_ld</th>\n",
       "      <td>0.000000e+00</td>\n",
       "      <td>0.1</td>\n",
       "    </tr>\n",
       "    <tr>\n",
       "      <th>Month</th>\n",
       "      <td>2.046762e-23</td>\n",
       "      <td>0.1</td>\n",
       "    </tr>\n",
       "    <tr>\n",
       "      <th>Consumption_per_Capita_China_WheatFeed_m_chg_pub</th>\n",
       "      <td>9.263887e-23</td>\n",
       "      <td>0.1</td>\n",
       "    </tr>\n",
       "    <tr>\n",
       "      <th>Oil_Average_Prices_wk_ld</th>\n",
       "      <td>4.047751e-21</td>\n",
       "      <td>0.1</td>\n",
       "    </tr>\n",
       "    <tr>\n",
       "      <th>Consumption_per_Capita_EU_CoarseGrains_m_chg_pub</th>\n",
       "      <td>3.876651e-19</td>\n",
       "      <td>0.1</td>\n",
       "    </tr>\n",
       "    <tr>\n",
       "      <th>...</th>\n",
       "      <td>...</td>\n",
       "      <td>...</td>\n",
       "    </tr>\n",
       "    <tr>\n",
       "      <th>Supply_to_Demand_EU_WheatPlusCoarseGrains_m_chg_pub_isna</th>\n",
       "      <td>NaN</td>\n",
       "      <td>NaN</td>\n",
       "    </tr>\n",
       "    <tr>\n",
       "      <th>Consumption_per_Capita_EU_CoarseGrains_m_chg_pub_isna</th>\n",
       "      <td>NaN</td>\n",
       "      <td>NaN</td>\n",
       "    </tr>\n",
       "    <tr>\n",
       "      <th>Consumption_per_Capita_EU_WheatFeed_m_chg_pub_isna</th>\n",
       "      <td>NaN</td>\n",
       "      <td>NaN</td>\n",
       "    </tr>\n",
       "    <tr>\n",
       "      <th>Consumption_per_Capita_China_WheatFeed_m_chg_pub_isna</th>\n",
       "      <td>NaN</td>\n",
       "      <td>NaN</td>\n",
       "    </tr>\n",
       "    <tr>\n",
       "      <th>GDP_deflator_q_chg_pub_isna</th>\n",
       "      <td>NaN</td>\n",
       "      <td>NaN</td>\n",
       "    </tr>\n",
       "  </tbody>\n",
       "</table>\n",
       "<p>61 rows × 2 columns</p>\n",
       "</div>"
      ],
      "text/plain": [
       "                                                           adf_p  kpss_p\n",
       "US_Dollar_Index_wk_ld                               0.000000e+00     0.1\n",
       "Month                                               2.046762e-23     0.1\n",
       "Consumption_per_Capita_China_WheatFeed_m_chg_pub    9.263887e-23     0.1\n",
       "Oil_Average_Prices_wk_ld                            4.047751e-21     0.1\n",
       "Consumption_per_Capita_EU_CoarseGrains_m_chg_pub    3.876651e-19     0.1\n",
       "...                                                          ...     ...\n",
       "Supply_to_Demand_EU_WheatPlusCoarseGrains_m_chg...           NaN     NaN\n",
       "Consumption_per_Capita_EU_CoarseGrains_m_chg_pu...           NaN     NaN\n",
       "Consumption_per_Capita_EU_WheatFeed_m_chg_pub_isna           NaN     NaN\n",
       "Consumption_per_Capita_China_WheatFeed_m_chg_pu...           NaN     NaN\n",
       "GDP_deflator_q_chg_pub_isna                                  NaN     NaN\n",
       "\n",
       "[61 rows x 2 columns]"
      ]
     },
     "metadata": {},
     "output_type": "display_data"
    }
   ],
   "source": [
    "from statsmodels.tsa.stattools import adfuller, kpss, ccf\n",
    "warnings.filterwarnings(\"ignore\")   # suppress statsmodels warnings\n",
    "def adf_kpss_summary(series: pd.Series) -> pd.Series:\n",
    "    try:\n",
    "        adf_p = adfuller(series.dropna(), autolag='AIC')[1]\n",
    "    except Exception: adf_p = np.nan\n",
    "    try:\n",
    "        kpss_p = kpss(series.dropna(), regression='c', nlags='auto')[1]\n",
    "    except Exception: kpss_p = np.nan\n",
    "    return pd.Series({'adf_p': adf_p, 'kpss_p': kpss_p})\n",
    "\n",
    "stat_rows = []\n",
    "for col in [k for k in dfw.columns if k not in [price_col, 'log_ret']]:\n",
    "    s = dfw[col].dropna()\n",
    "    if len(s) > 30:\n",
    "        row = adf_kpss_summary(s)\n",
    "        row.name = col\n",
    "        stat_rows.append(row)\n",
    "stationarity = pd.DataFrame(stat_rows).sort_values('adf_p')\n",
    "display(stationarity)"
   ]
  },
  {
   "cell_type": "code",
   "execution_count": 11,
   "id": "ae54549a",
   "metadata": {},
   "outputs": [],
   "source": [
    "stationary_feats = stationarity[(stationarity['adf_p'] < 0.05) & (stationarity['kpss_p'] > 0.05)].index.tolist()\n",
    "final_feats = stationary_feats"
   ]
  },
  {
   "cell_type": "code",
   "execution_count": 12,
   "id": "4bee465b",
   "metadata": {},
   "outputs": [
    {
     "data": {
      "text/plain": [
       "['US_Dollar_Index_wk_ld',\n",
       " 'Month',\n",
       " 'Consumption_per_Capita_China_WheatFeed_m_chg_pub',\n",
       " 'Oil_Average_Prices_wk_ld',\n",
       " 'Consumption_per_Capita_EU_CoarseGrains_m_chg_pub',\n",
       " 'Supply_to_Demand_MIwoChina_CoarseGrains_m_chg_pub',\n",
       " 'Consumption_per_Capita_MEwUS_CornFeed_m_chg_pub',\n",
       " 'Supply_to_Demand_World_Less_China_CoarseGrains_m_chg_pub',\n",
       " 'Consumption_per_Capita_US_Wheat_+_CoarseGrains_m_chg_pub',\n",
       " 'Consumption_To_Production_ME_CoarseGrains_m_chg_pub',\n",
       " 'Consumption_To_Production_MEwoEU_CoarseGrains_m_chg_pub',\n",
       " 'Supply_to_Demand_EU_WheatPlusCoarseGrains_m_chg_pub',\n",
       " 'Consumption_per_Capita_EU_WheatFeed_m_chg_pub',\n",
       " 'Stock_to_Use_MIwoChina_CoarseGrains_m_chg_pub',\n",
       " 'Stock_per_Capita_MIwoChina_CoarseGrains_m_chg_pub',\n",
       " 'Bonds_Price_Spread_10Y_3M_wk_diff',\n",
       " 'Bonds_Price_Spread_10Y_2Y_wk_diff',\n",
       " 'Long_term_interest_rates_m_chg_pub',\n",
       " 'Supply_per_Capita_MEwoEU_Corn_m_chg_pub',\n",
       " 'Short_term_interest_rates_m_chg_pub']"
      ]
     },
     "execution_count": 12,
     "metadata": {},
     "output_type": "execute_result"
    }
   ],
   "source": [
    "final_feats"
   ]
  },
  {
   "cell_type": "code",
   "execution_count": 14,
   "id": "90355a16",
   "metadata": {},
   "outputs": [
    {
     "data": {
      "application/vnd.microsoft.datawrangler.viewer.v0+json": {
       "columns": [
        {
         "name": "index",
         "rawType": "object",
         "type": "string"
        },
        {
         "name": "0",
         "rawType": "int64",
         "type": "integer"
        }
       ],
       "ref": "b941e2c4-b633-49ba-b605-e83035a5cabb",
       "rows": [
        [
         "Consumption_per_Capita_China_WheatFeed_m_chg_pub",
         "414"
        ],
        [
         "Consumption_per_Capita_EU_WheatFeed_m_chg_pub",
         "292"
        ],
        [
         "Consumption_per_Capita_US_Wheat_+_CoarseGrains_m_chg_pub",
         "156"
        ],
        [
         "Consumption_per_Capita_MEwUS_CornFeed_m_chg_pub",
         "147"
        ],
        [
         "Supply_per_Capita_MEwoEU_Corn_m_chg_pub",
         "144"
        ],
        [
         "Consumption_To_Production_MEwoEU_CoarseGrains_m_chg_pub",
         "143"
        ],
        [
         "Consumption_per_Capita_EU_CoarseGrains_m_chg_pub",
         "143"
        ],
        [
         "Consumption_To_Production_ME_CoarseGrains_m_chg_pub",
         "143"
        ],
        [
         "Supply_to_Demand_EU_WheatPlusCoarseGrains_m_chg_pub",
         "120"
        ],
        [
         "Stock_to_Use_MIwoChina_CoarseGrains_m_chg_pub",
         "102"
        ],
        [
         "Supply_to_Demand_MIwoChina_CoarseGrains_m_chg_pub",
         "94"
        ],
        [
         "Supply_to_Demand_World_Less_China_CoarseGrains_m_chg_pub",
         "91"
        ],
        [
         "Long_term_interest_rates_m_chg_pub",
         "88"
        ],
        [
         "Short_term_interest_rates_m_chg_pub",
         "85"
        ],
        [
         "Stock_per_Capita_MIwoChina_CoarseGrains_m_chg_pub",
         "78"
        ],
        [
         "log_ret",
         "29"
        ],
        [
         "Bonds_Price_Spread_10Y_2Y_wk_diff",
         "16"
        ],
        [
         "Bonds_Price_Spread_10Y_3M_wk_diff",
         "16"
        ],
        [
         "Oil_Average_Prices_wk_ld",
         "16"
        ],
        [
         "US_Dollar_Index_wk_ld",
         "7"
        ],
        [
         "Month",
         "0"
        ]
       ],
       "shape": {
        "columns": 1,
        "rows": 21
       }
      },
      "text/plain": [
       "Consumption_per_Capita_China_WheatFeed_m_chg_pub            414\n",
       "Consumption_per_Capita_EU_WheatFeed_m_chg_pub               292\n",
       "Consumption_per_Capita_US_Wheat_+_CoarseGrains_m_chg_pub    156\n",
       "Consumption_per_Capita_MEwUS_CornFeed_m_chg_pub             147\n",
       "Supply_per_Capita_MEwoEU_Corn_m_chg_pub                     144\n",
       "Consumption_To_Production_MEwoEU_CoarseGrains_m_chg_pub     143\n",
       "Consumption_per_Capita_EU_CoarseGrains_m_chg_pub            143\n",
       "Consumption_To_Production_ME_CoarseGrains_m_chg_pub         143\n",
       "Supply_to_Demand_EU_WheatPlusCoarseGrains_m_chg_pub         120\n",
       "Stock_to_Use_MIwoChina_CoarseGrains_m_chg_pub               102\n",
       "Supply_to_Demand_MIwoChina_CoarseGrains_m_chg_pub            94\n",
       "Supply_to_Demand_World_Less_China_CoarseGrains_m_chg_pub     91\n",
       "Long_term_interest_rates_m_chg_pub                           88\n",
       "Short_term_interest_rates_m_chg_pub                          85\n",
       "Stock_per_Capita_MIwoChina_CoarseGrains_m_chg_pub            78\n",
       "log_ret                                                      29\n",
       "Bonds_Price_Spread_10Y_2Y_wk_diff                            16\n",
       "Bonds_Price_Spread_10Y_3M_wk_diff                            16\n",
       "Oil_Average_Prices_wk_ld                                     16\n",
       "US_Dollar_Index_wk_ld                                         7\n",
       "Month                                                         0\n",
       "dtype: int64"
      ]
     },
     "execution_count": 14,
     "metadata": {},
     "output_type": "execute_result"
    }
   ],
   "source": [
    "dfw = dfw[final_feats + ['log_ret']].copy()\n",
    "\n",
    "def robust_z(x, win=21):\n",
    "    med = x.rolling(win, min_periods=win//2).median()\n",
    "    mad = (x - med).abs().rolling(win, min_periods=win//2).median()\n",
    "    return 0.6745 * (x - med) / (mad.replace(0, np.nan))\n",
    "\n",
    "outlier_report = {}\n",
    "for col in dfw.columns:\n",
    "    rz = robust_z(dfw[col])\n",
    "    outlier_report[col] = (rz.abs() > 4).sum()\n",
    "pd.Series(outlier_report).sort_values(ascending=False)\n"
   ]
  },
  {
   "cell_type": "code",
   "execution_count": 15,
   "id": "6160bc65",
   "metadata": {},
   "outputs": [
    {
     "data": {
      "application/vnd.microsoft.datawrangler.viewer.v0+json": {
       "columns": [
        {
         "name": "index",
         "rawType": "object",
         "type": "string"
        },
        {
         "name": "corr_with_log_ret",
         "rawType": "float64",
         "type": "float"
        }
       ],
       "ref": "62c23ea4-a5a6-4f60-9692-9ed59bb2bf9e",
       "rows": [
        [
         "US_Dollar_Index_wk_ld",
         "0.061378719349829754"
        ],
        [
         "Oil_Average_Prices_wk_ld",
         "0.04377096417484148"
        ],
        [
         "Month",
         "0.0380143296746229"
        ]
       ],
       "shape": {
        "columns": 1,
        "rows": 3
       }
      },
      "text/html": [
       "<div>\n",
       "<style scoped>\n",
       "    .dataframe tbody tr th:only-of-type {\n",
       "        vertical-align: middle;\n",
       "    }\n",
       "\n",
       "    .dataframe tbody tr th {\n",
       "        vertical-align: top;\n",
       "    }\n",
       "\n",
       "    .dataframe thead th {\n",
       "        text-align: right;\n",
       "    }\n",
       "</style>\n",
       "<table border=\"1\" class=\"dataframe\">\n",
       "  <thead>\n",
       "    <tr style=\"text-align: right;\">\n",
       "      <th></th>\n",
       "      <th>corr_with_log_ret</th>\n",
       "    </tr>\n",
       "  </thead>\n",
       "  <tbody>\n",
       "    <tr>\n",
       "      <th>US_Dollar_Index_wk_ld</th>\n",
       "      <td>0.061379</td>\n",
       "    </tr>\n",
       "    <tr>\n",
       "      <th>Oil_Average_Prices_wk_ld</th>\n",
       "      <td>0.043771</td>\n",
       "    </tr>\n",
       "    <tr>\n",
       "      <th>Month</th>\n",
       "      <td>0.038014</td>\n",
       "    </tr>\n",
       "  </tbody>\n",
       "</table>\n",
       "</div>"
      ],
      "text/plain": [
       "                          corr_with_log_ret\n",
       "US_Dollar_Index_wk_ld              0.061379\n",
       "Oil_Average_Prices_wk_ld           0.043771\n",
       "Month                              0.038014"
      ]
     },
     "metadata": {},
     "output_type": "display_data"
    }
   ],
   "source": [
    "cand = [c for c in dfw.columns if c.endswith('_ld') or c.endswith('_pct') or c=='US_Dollar_Index' or c=='Month']\n",
    "corrs = dfw[cand].corrwith(dfw['log_ret']).sort_values(key=np.abs, ascending=False)\n",
    "display(corrs.to_frame('corr_with_log_ret'))\n"
   ]
  },
  {
   "cell_type": "code",
   "execution_count": 16,
   "id": "47ef5585",
   "metadata": {},
   "outputs": [
    {
     "ename": "IndexError",
     "evalue": "invalid index to scalar variable.",
     "output_type": "error",
     "traceback": [
      "\u001b[31m---------------------------------------------------------------------------\u001b[39m",
      "\u001b[31mIndexError\u001b[39m                                Traceback (most recent call last)",
      "\u001b[36mCell\u001b[39m\u001b[36m \u001b[39m\u001b[32mIn[16]\u001b[39m\u001b[32m, line 11\u001b[39m\n\u001b[32m      9\u001b[39m ccf_tables = {}\n\u001b[32m     10\u001b[39m \u001b[38;5;28;01mfor\u001b[39;00m col \u001b[38;5;129;01min\u001b[39;00m [c \u001b[38;5;28;01mfor\u001b[39;00m c \u001b[38;5;129;01min\u001b[39;00m dfw.columns \u001b[38;5;28;01mif\u001b[39;00m c.endswith(\u001b[33m'\u001b[39m\u001b[33m_ld\u001b[39m\u001b[33m'\u001b[39m) \u001b[38;5;129;01mor\u001b[39;00m c.endswith(\u001b[33m'\u001b[39m\u001b[33m_pct\u001b[39m\u001b[33m'\u001b[39m)]:\n\u001b[32m---> \u001b[39m\u001b[32m11\u001b[39m     tab = \u001b[43mccf_series\u001b[49m\u001b[43m(\u001b[49m\u001b[43mdfw\u001b[49m\u001b[43m[\u001b[49m\u001b[43mcol\u001b[49m\u001b[43m]\u001b[49m\u001b[43m,\u001b[49m\u001b[43m \u001b[49m\u001b[43mdfw\u001b[49m\u001b[43m[\u001b[49m\u001b[33;43m'\u001b[39;49m\u001b[33;43mlog_ret\u001b[39;49m\u001b[33;43m'\u001b[39;49m\u001b[43m]\u001b[49m\u001b[43m,\u001b[49m\u001b[43m \u001b[49m\u001b[43mmax_lag\u001b[49m\u001b[43m=\u001b[49m\u001b[32;43m26\u001b[39;49m\u001b[43m)\u001b[49m\n\u001b[32m     12\u001b[39m     ccf_tables[col] = tab.sort_values(\u001b[33m'\u001b[39m\u001b[33mccf\u001b[39m\u001b[33m'\u001b[39m, key=np.abs, ascending=\u001b[38;5;28;01mFalse\u001b[39;00m).head(\u001b[32m3\u001b[39m)\n\u001b[32m     14\u001b[39m \u001b[38;5;66;03m# Peek at top lags per feature\u001b[39;00m\n",
      "\u001b[36mCell\u001b[39m\u001b[36m \u001b[39m\u001b[32mIn[16]\u001b[39m\u001b[32m, line 6\u001b[39m, in \u001b[36mccf_series\u001b[39m\u001b[34m(x, y, max_lag)\u001b[39m\n\u001b[32m      4\u001b[39m vals = []\n\u001b[32m      5\u001b[39m \u001b[38;5;28;01mfor\u001b[39;00m k \u001b[38;5;129;01min\u001b[39;00m \u001b[38;5;28mrange\u001b[39m(\u001b[32m1\u001b[39m, max_lag+\u001b[32m1\u001b[39m):\n\u001b[32m----> \u001b[39m\u001b[32m6\u001b[39m     vals.append((k, \u001b[43mnp\u001b[49m\u001b[43m.\u001b[49m\u001b[43mcorrcoef\u001b[49m\u001b[43m(\u001b[49m\u001b[43mx\u001b[49m\u001b[43m.\u001b[49m\u001b[43mshift\u001b[49m\u001b[43m(\u001b[49m\u001b[43mk\u001b[49m\u001b[43m)\u001b[49m\u001b[43m.\u001b[49m\u001b[43mdropna\u001b[49m\u001b[43m(\u001b[49m\u001b[43m)\u001b[49m\u001b[43m.\u001b[49m\u001b[43malign\u001b[49m\u001b[43m(\u001b[49m\u001b[43my\u001b[49m\u001b[43m,\u001b[49m\u001b[43m \u001b[49m\u001b[43mjoin\u001b[49m\u001b[43m=\u001b[49m\u001b[33;43m'\u001b[39;49m\u001b[33;43minner\u001b[39;49m\u001b[33;43m'\u001b[39;49m\u001b[43m)\u001b[49m\u001b[43m[\u001b[49m\u001b[32;43m0\u001b[39;49m\u001b[43m]\u001b[49m\u001b[43m)\u001b[49m\u001b[43m[\u001b[49m\u001b[32;43m0\u001b[39;49m\u001b[43m,\u001b[49m\u001b[32;43m1\u001b[39;49m\u001b[43m]\u001b[49m))\n\u001b[32m      7\u001b[39m \u001b[38;5;28;01mreturn\u001b[39;00m pd.DataFrame(vals, columns=[\u001b[33m'\u001b[39m\u001b[33mlag\u001b[39m\u001b[33m'\u001b[39m,\u001b[33m'\u001b[39m\u001b[33mccf\u001b[39m\u001b[33m'\u001b[39m])\n",
      "\u001b[31mIndexError\u001b[39m: invalid index to scalar variable."
     ]
    }
   ],
   "source": [
    "def ccf_series(x, y, max_lag=26):  # 26 weeks ≈ 6 months\n",
    "    x = (x - x.mean())/x.std()\n",
    "    y = (y - y.mean())/y.std()\n",
    "    vals = []\n",
    "    for k in range(1, max_lag+1):\n",
    "        vals.append((k, np.corrcoef(x.shift(k).dropna().align(y, join='inner')[0])[0,1]))\n",
    "    return pd.DataFrame(vals, columns=['lag','ccf'])\n",
    "\n",
    "ccf_tables = {}\n",
    "for col in [c for c in dfw.columns if c.endswith('_ld') or c.endswith('_pct')]:\n",
    "    tab = ccf_series(dfw[col], dfw['log_ret'], max_lag=26)\n",
    "    ccf_tables[col] = tab.sort_values('ccf', key=np.abs, ascending=False).head(3)\n",
    "\n",
    "# Peek at top lags per feature\n",
    "for k, t in list(ccf_tables.items())[:5]:\n",
    "    print(k, '\\n', t, '\\n')\n"
   ]
  },
  {
   "cell_type": "code",
   "execution_count": 17,
   "id": "47b7e491",
   "metadata": {},
   "outputs": [
    {
     "ename": "KeyError",
     "evalue": "'US_Dollar_Index'",
     "output_type": "error",
     "traceback": [
      "\u001b[31m---------------------------------------------------------------------------\u001b[39m",
      "\u001b[31mKeyError\u001b[39m                                  Traceback (most recent call last)",
      "\u001b[36mFile \u001b[39m\u001b[32m~/Svetozar Personal/PERSONAL PROJECTS/MY REPO/personal-projects/trading/lib/python3.12/site-packages/pandas/core/indexes/base.py:3812\u001b[39m, in \u001b[36mIndex.get_loc\u001b[39m\u001b[34m(self, key)\u001b[39m\n\u001b[32m   3811\u001b[39m \u001b[38;5;28;01mtry\u001b[39;00m:\n\u001b[32m-> \u001b[39m\u001b[32m3812\u001b[39m     \u001b[38;5;28;01mreturn\u001b[39;00m \u001b[38;5;28;43mself\u001b[39;49m\u001b[43m.\u001b[49m\u001b[43m_engine\u001b[49m\u001b[43m.\u001b[49m\u001b[43mget_loc\u001b[49m\u001b[43m(\u001b[49m\u001b[43mcasted_key\u001b[49m\u001b[43m)\u001b[49m\n\u001b[32m   3813\u001b[39m \u001b[38;5;28;01mexcept\u001b[39;00m \u001b[38;5;167;01mKeyError\u001b[39;00m \u001b[38;5;28;01mas\u001b[39;00m err:\n",
      "\u001b[36mFile \u001b[39m\u001b[32mpandas/_libs/index.pyx:167\u001b[39m, in \u001b[36mpandas._libs.index.IndexEngine.get_loc\u001b[39m\u001b[34m()\u001b[39m\n",
      "\u001b[36mFile \u001b[39m\u001b[32mpandas/_libs/index.pyx:196\u001b[39m, in \u001b[36mpandas._libs.index.IndexEngine.get_loc\u001b[39m\u001b[34m()\u001b[39m\n",
      "\u001b[36mFile \u001b[39m\u001b[32mpandas/_libs/hashtable_class_helper.pxi:7088\u001b[39m, in \u001b[36mpandas._libs.hashtable.PyObjectHashTable.get_item\u001b[39m\u001b[34m()\u001b[39m\n",
      "\u001b[36mFile \u001b[39m\u001b[32mpandas/_libs/hashtable_class_helper.pxi:7096\u001b[39m, in \u001b[36mpandas._libs.hashtable.PyObjectHashTable.get_item\u001b[39m\u001b[34m()\u001b[39m\n",
      "\u001b[31mKeyError\u001b[39m: 'US_Dollar_Index'",
      "\nThe above exception was the direct cause of the following exception:\n",
      "\u001b[31mKeyError\u001b[39m                                  Traceback (most recent call last)",
      "\u001b[36mCell\u001b[39m\u001b[36m \u001b[39m\u001b[32mIn[17]\u001b[39m\u001b[32m, line 3\u001b[39m\n\u001b[32m      1\u001b[39m \u001b[38;5;66;03m# Example: pick a handful from corr/ccf results and lag them\u001b[39;00m\n\u001b[32m      2\u001b[39m feat_defs = {\n\u001b[32m----> \u001b[39m\u001b[32m3\u001b[39m     \u001b[33m'\u001b[39m\u001b[33musd_lag1\u001b[39m\u001b[33m'\u001b[39m : \u001b[43mdfw\u001b[49m\u001b[43m[\u001b[49m\u001b[33;43m'\u001b[39;49m\u001b[33;43mUS_Dollar_Index\u001b[39;49m\u001b[33;43m'\u001b[39;49m\u001b[43m]\u001b[49m.pct_change().shift(\u001b[32m1\u001b[39m),\n\u001b[32m      4\u001b[39m     \u001b[33m'\u001b[39m\u001b[33moil_lag1\u001b[39m\u001b[33m'\u001b[39m : dfw[\u001b[33m'\u001b[39m\u001b[33mOil_Average_Prices\u001b[39m\u001b[33m'\u001b[39m].pct_change().shift(\u001b[32m1\u001b[39m),\n\u001b[32m      5\u001b[39m     \u001b[33m'\u001b[39m\u001b[33mgdp_ld_lag4\u001b[39m\u001b[33m'\u001b[39m : np.log(dfw[\u001b[33m'\u001b[39m\u001b[33mGDP_deflator\u001b[39m\u001b[33m'\u001b[39m] / dfw[\u001b[33m'\u001b[39m\u001b[33mGDP_deflator\u001b[39m\u001b[33m'\u001b[39m].shift(\u001b[32m1\u001b[39m)).shift(\u001b[32m4\u001b[39m),\n\u001b[32m      6\u001b[39m     \u001b[38;5;66;03m# add a couple from your coarse-grain supply/consumption metrics, using %chg/logdiff + sensible lags\u001b[39;00m\n\u001b[32m      7\u001b[39m }\n\u001b[32m      9\u001b[39m Xtmp = pd.concat(feat_defs, axis=\u001b[32m1\u001b[39m).dropna()\n\u001b[32m     10\u001b[39m \u001b[38;5;66;03m# Standardize for VIF stability\u001b[39;00m\n",
      "\u001b[36mFile \u001b[39m\u001b[32m~/Svetozar Personal/PERSONAL PROJECTS/MY REPO/personal-projects/trading/lib/python3.12/site-packages/pandas/core/frame.py:4113\u001b[39m, in \u001b[36mDataFrame.__getitem__\u001b[39m\u001b[34m(self, key)\u001b[39m\n\u001b[32m   4111\u001b[39m \u001b[38;5;28;01mif\u001b[39;00m \u001b[38;5;28mself\u001b[39m.columns.nlevels > \u001b[32m1\u001b[39m:\n\u001b[32m   4112\u001b[39m     \u001b[38;5;28;01mreturn\u001b[39;00m \u001b[38;5;28mself\u001b[39m._getitem_multilevel(key)\n\u001b[32m-> \u001b[39m\u001b[32m4113\u001b[39m indexer = \u001b[38;5;28;43mself\u001b[39;49m\u001b[43m.\u001b[49m\u001b[43mcolumns\u001b[49m\u001b[43m.\u001b[49m\u001b[43mget_loc\u001b[49m\u001b[43m(\u001b[49m\u001b[43mkey\u001b[49m\u001b[43m)\u001b[49m\n\u001b[32m   4114\u001b[39m \u001b[38;5;28;01mif\u001b[39;00m is_integer(indexer):\n\u001b[32m   4115\u001b[39m     indexer = [indexer]\n",
      "\u001b[36mFile \u001b[39m\u001b[32m~/Svetozar Personal/PERSONAL PROJECTS/MY REPO/personal-projects/trading/lib/python3.12/site-packages/pandas/core/indexes/base.py:3819\u001b[39m, in \u001b[36mIndex.get_loc\u001b[39m\u001b[34m(self, key)\u001b[39m\n\u001b[32m   3814\u001b[39m     \u001b[38;5;28;01mif\u001b[39;00m \u001b[38;5;28misinstance\u001b[39m(casted_key, \u001b[38;5;28mslice\u001b[39m) \u001b[38;5;129;01mor\u001b[39;00m (\n\u001b[32m   3815\u001b[39m         \u001b[38;5;28misinstance\u001b[39m(casted_key, abc.Iterable)\n\u001b[32m   3816\u001b[39m         \u001b[38;5;129;01mand\u001b[39;00m \u001b[38;5;28many\u001b[39m(\u001b[38;5;28misinstance\u001b[39m(x, \u001b[38;5;28mslice\u001b[39m) \u001b[38;5;28;01mfor\u001b[39;00m x \u001b[38;5;129;01min\u001b[39;00m casted_key)\n\u001b[32m   3817\u001b[39m     ):\n\u001b[32m   3818\u001b[39m         \u001b[38;5;28;01mraise\u001b[39;00m InvalidIndexError(key)\n\u001b[32m-> \u001b[39m\u001b[32m3819\u001b[39m     \u001b[38;5;28;01mraise\u001b[39;00m \u001b[38;5;167;01mKeyError\u001b[39;00m(key) \u001b[38;5;28;01mfrom\u001b[39;00m\u001b[38;5;250m \u001b[39m\u001b[34;01merr\u001b[39;00m\n\u001b[32m   3820\u001b[39m \u001b[38;5;28;01mexcept\u001b[39;00m \u001b[38;5;167;01mTypeError\u001b[39;00m:\n\u001b[32m   3821\u001b[39m     \u001b[38;5;66;03m# If we have a listlike key, _check_indexing_error will raise\u001b[39;00m\n\u001b[32m   3822\u001b[39m     \u001b[38;5;66;03m#  InvalidIndexError. Otherwise we fall through and re-raise\u001b[39;00m\n\u001b[32m   3823\u001b[39m     \u001b[38;5;66;03m#  the TypeError.\u001b[39;00m\n\u001b[32m   3824\u001b[39m     \u001b[38;5;28mself\u001b[39m._check_indexing_error(key)\n",
      "\u001b[31mKeyError\u001b[39m: 'US_Dollar_Index'"
     ]
    }
   ],
   "source": [
    "# Example: pick a handful from corr/ccf results and lag them\n",
    "feat_defs = {\n",
    "    'usd_lag1' : dfw['US_Dollar_Index'].pct_change().shift(1),\n",
    "    'oil_lag1' : dfw['Oil_Average_Prices'].pct_change().shift(1),\n",
    "    'gdp_ld_lag4' : np.log(dfw['GDP_deflator'] / dfw['GDP_deflator'].shift(1)).shift(4),\n",
    "    # add a couple from your coarse-grain supply/consumption metrics, using %chg/logdiff + sensible lags\n",
    "}\n",
    "\n",
    "Xtmp = pd.concat(feat_defs, axis=1).dropna()\n",
    "# Standardize for VIF stability\n",
    "Xstd = (Xtmp - Xtmp.mean()) / Xtmp.std()\n",
    "\n",
    "vif = pd.DataFrame({\n",
    "    'feature': Xstd.columns,\n",
    "    'VIF': [variance_inflation_factor(Xstd.values, i) for i in range(Xstd.shape[1])]\n",
    "}).sort_values('VIF', ascending=False)\n",
    "display(vif)\n"
   ]
  },
  {
   "cell_type": "code",
   "execution_count": null,
   "id": "49b7aa21",
   "metadata": {},
   "outputs": [],
   "source": [
    "# Monthly seasonality on target\n",
    "season = dfw['log_ret'].groupby(dfw.index.month).agg(['mean','std','count'])\n",
    "season.index.name = 'Month'\n",
    "display(season)\n"
   ]
  },
  {
   "cell_type": "code",
   "execution_count": 18,
   "id": "91cc96df",
   "metadata": {},
   "outputs": [],
   "source": [
    "# Example: assume GDP deflator is known ~2 weeks after period end (customize!)\n",
    "pub_lags = {\n",
    "    'GDP_deflator': 14,\n",
    "    'Long_term_interest_rates': 2,\n",
    "    'Short_term_interest_rates': 2,\n",
    "    # add others if needed\n",
    "}\n",
    "\n",
    "for col, lag_days in pub_lags.items():\n",
    "    if col in dfw.columns:\n",
    "        dfw[col+'_pubsafe'] = dfw[col].shift(lag_days, freq='D')\n"
   ]
  },
  {
   "cell_type": "code",
   "execution_count": null,
   "id": "00621c74",
   "metadata": {},
   "outputs": [],
   "source": []
  }
 ],
 "metadata": {
  "kernelspec": {
   "display_name": "trading",
   "language": "python",
   "name": "python3"
  },
  "language_info": {
   "codemirror_mode": {
    "name": "ipython",
    "version": 3
   },
   "file_extension": ".py",
   "mimetype": "text/x-python",
   "name": "python",
   "nbconvert_exporter": "python",
   "pygments_lexer": "ipython3",
   "version": "3.12.7"
  }
 },
 "nbformat": 4,
 "nbformat_minor": 5
}
